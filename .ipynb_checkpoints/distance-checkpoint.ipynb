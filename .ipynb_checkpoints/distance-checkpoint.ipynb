{
 "cells": [
  {
   "cell_type": "code",
   "execution_count": 1,
   "id": "864919d8-456e-4515-b62c-847f6241cdfa",
   "metadata": {},
   "outputs": [],
   "source": [
    "\n",
    "# הקוד להלן הוא קוד ששולח פרים למודל שלנו מקבל חמישה פרמטרים שהם מחלקה,איקס, אווי, רוחב וגבהה עם החמישה פרמטרים הללו נצטרך לחשב את המרחק לכן לנפי שאני מתחילים את הריצה לפרימים אניו נחשב \n",
    "# אורך מוקדי שזה יהיה על ידי ביצוע מדידה של האוביקט במציאות ומדידת המרחק שלו במציעות  מה שבעצם אנו מחשבים זה את הגובה שמצאנו דרך המודל כלומר גובה בפיקסלים כפול המרחק שמדדנו במציאות כאשר צילמנו את התמונה \n",
    "# חלקי הגובה האמיתי שמדדנו בהיותנו מצלמים את האוביקט . החישוב הזה הוא מביא לנו אורך מוקדי ואיתו נחשב את המרחק \n",
    "#  בחישוב מרחק אנו נכפיל את הגובה המדוד במציאות כפול האורך המוקדי חלקי הגובה שחזר כחלק מהפרמטרים החזויים של המודל. "
   ]
  },
  {
   "cell_type": "code",
   "execution_count": null,
   "id": "fd6bbf48-59ea-4fb0-a222-e7b81ae8065b",
   "metadata": {},
   "outputs": [],
   "source": []
  },
  {
   "cell_type": "code",
   "execution_count": 2,
   "id": "6afe77c2-af93-4098-994f-2d3594143223",
   "metadata": {},
   "outputs": [],
   "source": [
    "import torch\n",
    "import IPython\n",
    "from IPython.display import Image\n",
    "import tensorboard\n",
    "import tensorflow\n",
    "import speech_recognition as sr\n",
    "import pocketsphinx\n",
    "import pyaudio\n",
    "import pyttsx3\n",
    "engine = pyttsx3.init()\n",
    "recognizer = sr.Recognizer()\n",
    "import os\n",
    "os.environ[\"GIT_PYTHON_REFRESH\"] = \"quiet\"\n",
    "import git\n",
    "import cv2"
   ]
  },
  {
   "cell_type": "code",
   "execution_count": 16,
   "id": "96256003-969a-43e2-ab1c-41274317667a",
   "metadata": {
    "scrolled": true
   },
   "outputs": [
    {
     "ename": "Exception",
     "evalue": "File `'../yolov5.ipynb'` not found.",
     "output_type": "error",
     "traceback": [
      "\u001b[1;31m---------------------------------------------------------------------------\u001b[0m",
      "\u001b[1;31mOSError\u001b[0m                                   Traceback (most recent call last)",
      "File \u001b[1;32m~\\AppData\\Local\\Programs\\Python\\Python312\\Lib\\site-packages\\IPython\\core\\magics\\execution.py:716\u001b[0m, in \u001b[0;36mExecutionMagics.run\u001b[1;34m(self, parameter_s, runner, file_finder)\u001b[0m\n\u001b[0;32m    715\u001b[0m     fpath \u001b[38;5;241m=\u001b[39m arg_lst[\u001b[38;5;241m0\u001b[39m]\n\u001b[1;32m--> 716\u001b[0m     filename \u001b[38;5;241m=\u001b[39m \u001b[43mfile_finder\u001b[49m\u001b[43m(\u001b[49m\u001b[43mfpath\u001b[49m\u001b[43m)\u001b[49m\n\u001b[0;32m    717\u001b[0m \u001b[38;5;28;01mexcept\u001b[39;00m \u001b[38;5;167;01mIndexError\u001b[39;00m \u001b[38;5;28;01mas\u001b[39;00m e:\n",
      "File \u001b[1;32m~\\AppData\\Local\\Programs\\Python\\Python312\\Lib\\site-packages\\IPython\\utils\\path.py:90\u001b[0m, in \u001b[0;36mget_py_filename\u001b[1;34m(name)\u001b[0m\n\u001b[0;32m     89\u001b[0m         \u001b[38;5;28;01mreturn\u001b[39;00m py_name\n\u001b[1;32m---> 90\u001b[0m \u001b[38;5;28;01mraise\u001b[39;00m \u001b[38;5;167;01mIOError\u001b[39;00m(\u001b[38;5;124m\"\u001b[39m\u001b[38;5;124mFile `\u001b[39m\u001b[38;5;132;01m%r\u001b[39;00m\u001b[38;5;124m` not found.\u001b[39m\u001b[38;5;124m\"\u001b[39m \u001b[38;5;241m%\u001b[39m name)\n",
      "\u001b[1;31mOSError\u001b[0m: File `'../yolov5.ipynb'` not found.",
      "\nThe above exception was the direct cause of the following exception:\n",
      "\u001b[1;31mException\u001b[0m                                 Traceback (most recent call last)",
      "Cell \u001b[1;32mIn[16], line 1\u001b[0m\n\u001b[1;32m----> 1\u001b[0m \u001b[43mget_ipython\u001b[49m\u001b[43m(\u001b[49m\u001b[43m)\u001b[49m\u001b[38;5;241;43m.\u001b[39;49m\u001b[43mrun_line_magic\u001b[49m\u001b[43m(\u001b[49m\u001b[38;5;124;43m'\u001b[39;49m\u001b[38;5;124;43mrun\u001b[39;49m\u001b[38;5;124;43m'\u001b[39;49m\u001b[43m,\u001b[49m\u001b[43m \u001b[49m\u001b[38;5;124;43m'\u001b[39;49m\u001b[38;5;124;43m../yolov5.ipynb\u001b[39;49m\u001b[38;5;124;43m'\u001b[39;49m\u001b[43m)\u001b[49m\n",
      "File \u001b[1;32m~\\AppData\\Local\\Programs\\Python\\Python312\\Lib\\site-packages\\IPython\\core\\interactiveshell.py:2432\u001b[0m, in \u001b[0;36mInteractiveShell.run_line_magic\u001b[1;34m(self, magic_name, line, _stack_depth)\u001b[0m\n\u001b[0;32m   2430\u001b[0m     kwargs[\u001b[38;5;124m'\u001b[39m\u001b[38;5;124mlocal_ns\u001b[39m\u001b[38;5;124m'\u001b[39m] \u001b[38;5;241m=\u001b[39m \u001b[38;5;28mself\u001b[39m\u001b[38;5;241m.\u001b[39mget_local_scope(stack_depth)\n\u001b[0;32m   2431\u001b[0m \u001b[38;5;28;01mwith\u001b[39;00m \u001b[38;5;28mself\u001b[39m\u001b[38;5;241m.\u001b[39mbuiltin_trap:\n\u001b[1;32m-> 2432\u001b[0m     result \u001b[38;5;241m=\u001b[39m \u001b[43mfn\u001b[49m\u001b[43m(\u001b[49m\u001b[38;5;241;43m*\u001b[39;49m\u001b[43margs\u001b[49m\u001b[43m,\u001b[49m\u001b[43m \u001b[49m\u001b[38;5;241;43m*\u001b[39;49m\u001b[38;5;241;43m*\u001b[39;49m\u001b[43mkwargs\u001b[49m\u001b[43m)\u001b[49m\n\u001b[0;32m   2434\u001b[0m \u001b[38;5;66;03m# The code below prevents the output from being displayed\u001b[39;00m\n\u001b[0;32m   2435\u001b[0m \u001b[38;5;66;03m# when using magics with decorator @output_can_be_silenced\u001b[39;00m\n\u001b[0;32m   2436\u001b[0m \u001b[38;5;66;03m# when the last Python token in the expression is a ';'.\u001b[39;00m\n\u001b[0;32m   2437\u001b[0m \u001b[38;5;28;01mif\u001b[39;00m \u001b[38;5;28mgetattr\u001b[39m(fn, magic\u001b[38;5;241m.\u001b[39mMAGIC_OUTPUT_CAN_BE_SILENCED, \u001b[38;5;28;01mFalse\u001b[39;00m):\n",
      "File \u001b[1;32m~\\AppData\\Local\\Programs\\Python\\Python312\\Lib\\site-packages\\IPython\\core\\magics\\execution.py:727\u001b[0m, in \u001b[0;36mExecutionMagics.run\u001b[1;34m(self, parameter_s, runner, file_finder)\u001b[0m\n\u001b[0;32m    725\u001b[0m     \u001b[38;5;28;01mif\u001b[39;00m os\u001b[38;5;241m.\u001b[39mname \u001b[38;5;241m==\u001b[39m \u001b[38;5;124m'\u001b[39m\u001b[38;5;124mnt\u001b[39m\u001b[38;5;124m'\u001b[39m \u001b[38;5;129;01mand\u001b[39;00m re\u001b[38;5;241m.\u001b[39mmatch(\u001b[38;5;124mr\u001b[39m\u001b[38;5;124m\"\u001b[39m\u001b[38;5;124m^\u001b[39m\u001b[38;5;124m'\u001b[39m\u001b[38;5;124m.*\u001b[39m\u001b[38;5;124m'\u001b[39m\u001b[38;5;124m$\u001b[39m\u001b[38;5;124m\"\u001b[39m,fpath):\n\u001b[0;32m    726\u001b[0m         warn(\u001b[38;5;124m'\u001b[39m\u001b[38;5;124mFor Windows, use double quotes to wrap a filename: \u001b[39m\u001b[38;5;132;01m%r\u001b[39;00m\u001b[38;5;124mun \u001b[39m\u001b[38;5;124m\"\u001b[39m\u001b[38;5;124mmypath\u001b[39m\u001b[38;5;130;01m\\\\\u001b[39;00m\u001b[38;5;124mmyfile.py\u001b[39m\u001b[38;5;124m\"\u001b[39m\u001b[38;5;124m'\u001b[39m)\n\u001b[1;32m--> 727\u001b[0m     \u001b[38;5;28;01mraise\u001b[39;00m \u001b[38;5;167;01mException\u001b[39;00m(msg) \u001b[38;5;28;01mfrom\u001b[39;00m \u001b[38;5;21;01me\u001b[39;00m\n\u001b[0;32m    728\u001b[0m \u001b[38;5;28;01mexcept\u001b[39;00m \u001b[38;5;167;01mTypeError\u001b[39;00m:\n\u001b[0;32m    729\u001b[0m     \u001b[38;5;28;01mif\u001b[39;00m fpath \u001b[38;5;129;01min\u001b[39;00m sys\u001b[38;5;241m.\u001b[39mmeta_path:\n",
      "\u001b[1;31mException\u001b[0m: File `'../yolov5.ipynb'` not found."
     ]
    }
   ],
   "source": [
    "%run ../yolov5.ipynb"
   ]
  },
  {
   "cell_type": "code",
   "execution_count": 5,
   "id": "f0be8a45-fd55-42d4-9a00-64d38cd1c836",
   "metadata": {},
   "outputs": [],
   "source": [
    "know_distans_bed = 131\n",
    "know_height_bed = 82\n",
    "know_distans_sofa =271\n",
    "know_height_sofa = 89\n",
    "know_distans_chair = 149\n",
    "know_height_chair = 94\n",
    "know_distans_table = 163\n",
    "know_height_table = 78\n",
    "know_distans_lib= 151\n",
    "know_height_lib = 240 \n",
    "know_distans_dresser = 120\n",
    "know_height_dresser = 177"
   ]
  },
  {
   "cell_type": "code",
   "execution_count": 6,
   "id": "9da1b450-4cfb-46cd-9272-0df3cf01e196",
   "metadata": {},
   "outputs": [],
   "source": [
    "# ******************************************\n",
    "# פונקציות למציאת מרחק על ידי הגובה הידוע המרחק הידוע והגובה שמצאנו בפריים שנשלח ל -יולו וי 5\n",
    "def focal_length_finder(known_dis, know_height, height_we_found):\n",
    "    focal_length = (height_we_found* known_dis)/ know_height\n",
    "    return focal_length\n",
    "def distans_finder(focal_length, know_height, height_we_found):\n",
    "    distance = (know_height * focal_length)/ height_we_found\n",
    "    return distance"
   ]
  },
  {
   "cell_type": "code",
   "execution_count": 7,
   "id": "cfd3deca-2195-4733-90c6-50b0eca133dd",
   "metadata": {},
   "outputs": [],
   "source": [
    "focal_langth_class0 = 90"
   ]
  },
  {
   "cell_type": "code",
   "execution_count": 8,
   "id": "12b89a79-27e2-4609-ae9e-ce7082288530",
   "metadata": {},
   "outputs": [],
   "source": [
    "# # יצירת כול הפוקאל לאנקס\n",
    "# # bed\n",
    "# five_parametr = detect_yolo(\"img_bed\", \"0\")\n",
    "# if five_parametr:\n",
    "#     height_in_class_0_in_the_rf = five_parametr[4]\n",
    "#     focal_langth_class0 = focal_length_finder(know_distans_bed, know_height_bed, height_in_class_0_in_the_rf)\n",
    "#     distance= distans_finder(focal_langth_class0, know_height_bed, height_in_class_0_in_the_rf )\n",
    "#     print(distance)\n",
    "# # table\n",
    "# five_parametr = detect_yolo(\"img_table\", \"1\")\n",
    "# if five_parametr:\n",
    "#     height_in_class_1_in_the_rf = five_parametr[4]\n",
    "#     # נצטרך למצוא את_הפוקאל לאנגס' לכול מחלקה\n",
    "#     focal_langth_class1 = focal_length_finder(know_distans_table, know_height_table, height_in_class_1_in_the_rf)\n",
    "#     distance= distans_finder(focal_langth_class1, know_height_table, height_in_class_1_in_the_rf )\n",
    "#     print(distance)\n",
    "# # sofa\n",
    "# five_parametr = detect_yolo(\"img_sofa\", \"2\")\n",
    "# if five_parametr:\n",
    "#     height_in_class_2_in_the_rf = five_parametr[4]\n",
    "#     # נצטרך למצוא את_הפוקאל לאנגס' לכול מחלקה\n",
    "#     focal_langth_class2 = focal_length_finder(know_distans_sofa, know_height_sofa, height_in_class_2_in_the_rf)\n",
    "#     distance= distans_finder(focal_langth_class2, know_height_sofa, height_in_class_2_in_the_rf )\n",
    "#     print(distance)\n",
    "# # dresser\n",
    "# five_parametr = detect_yolo(\"img_dresser\", \"3\")\n",
    "# if five_parametr:\n",
    "#     height_in_class_3_in_the_rf = five_parametr[4]\n",
    "#     # נצטרך למצוא את_הפוקאל לאנגס' לכול מחלקה\n",
    "#     focal_langth_class3 = focal_length_finder(know_distans_dresser, know_height_dresser, height_in_class_3_in_the_rf)\n",
    "#     distance= distans_finder(focal_langth_class3, know_height_dresser, height_in_class_3_in_the_rf )\n",
    "#     print(distance)\n",
    "# # closet\n",
    "# five_parametr = detect_yolo(\"img_closet\", \"4\")\n",
    "# if five_parametr:\n",
    "#     height_in_class_4_in_the_rf = five_parametr[4]\n",
    "#     # נצטרך למצוא את_הפוקאל לאנגס' לכול מחלקה\n",
    "#     focal_langth_class4 = focal_length_finder(know_distans_closet, know_height_closet, height_in_class_4_in_the_rf)\n",
    "#     distance= distans_finder(focal_langth_class4, know_height_closet, height_in_class_4_in_the_rf )\n",
    "#     print(distance)\n",
    "# # chair\n",
    "# five_parametr = detect_yolo(\"img_chair\", \"5\")\n",
    "# if five_parametr:\n",
    "#     height_in_class_5_in_the_rf = five_parametr[4]\n",
    "#     # נצטרך למצוא את_הפוקאל לאנגס' לכול מחלקה\n",
    "#     focal_langth_class5 = focal_length_finder(know_distans_chair, know_height_chair, height_in_class_5_in_the_rf)\n",
    "#     distance= distans_finder(focal_langth_class5, know_height_chair, height_in_class_5_in_the_rf )\n",
    "#     print(distance)\n",
    "# # libary\n",
    "# five_parametr = detect_yolo(\"img_libary\", \"6\")\n",
    "# if five_parametr:\n",
    "#     height_in_class_6_in_the_rf = five_parametr[4]\n",
    "#     # נצטרך למצוא את_הפוקאל לאנגס' לכול מחלקה\n",
    "#     focal_langth_class6 = focal_length_finder(know_distans_libary, know_height_libary, height_in_class_6_in_the_rf)\n",
    "#     distance= distans_finder(focal_langth_class6, know_height_libary, height_in_class_6_in_the_rf )\n",
    "#     print(distance)\n",
    "# # coffeTable\n",
    "# five_parametr = detect_yolo(\"img_coffeTable\", \"7\")\n",
    "# if five_parametr:\n",
    "#     height_in_class_7_in_the_rf = five_parametr[4]\n",
    "#     # נצטרך למצוא את_הפוקאל לאנגס' לכול מחלקה\n",
    "#     focal_langth_class7 = focal_length_finder(know_distans_coffeTable, know_height_coffeTable, height_in_class_7_in_the_rf)\n",
    "#     distance= distans_finder(focal_langth_class7, know_height_coffeTable, height_in_class_7_in_the_rf )\n",
    "#     print(distance)\n"
   ]
  },
  {
   "cell_type": "code",
   "execution_count": 9,
   "id": "d869f38e-6e6b-46d5-b058-3f240cb096fd",
   "metadata": {},
   "outputs": [],
   "source": [
    "def sending_the_cl(cl):\n",
    "    \"\"\"the function get the name of the class and sending it to the make_frame function\n",
    "    and the make_frame function will send to the detect function\"\"\"\n",
    "    engine.say(\"we want to take a fram of your environment please hold the camera in the center of your chest\")\n",
    "    engine.runAndWait()\n",
    "    frame_Capture(cl)"
   ]
  },
  {
   "cell_type": "code",
   "execution_count": 10,
   "id": "e252adc4-e301-45c1-9c63-7c526156c861",
   "metadata": {},
   "outputs": [],
   "source": [
    "def process_voice_command(text):\n",
    "    if \"hello\" in text.lower():\n",
    "        # print(\"Hello! How can I help you?\")\n",
    "        engine.say('Hello, How can I help you')\n",
    "        engine.runAndWait()\n",
    "    elif \"bed\" in text.lower():\n",
    "        engine.say('the object you search for is a bed')\n",
    "        engine.runAndWait()\n",
    "        sending_the_cl(\"0\")\n",
    "    elif \"coffee\" in text.lower() and \"table\" in text.lower():\n",
    "        engine.say('the object you search for is a coffee table')\n",
    "        engine.runAndWait()\n",
    "        sending_the_cl(\"7\")\n",
    "    elif \"table\" in text.lower():\n",
    "        engine.say('the object you search for is a table')\n",
    "        engine.runAndWait()\n",
    "        sending_the_cl(\"1\")\n",
    "    elif \"sofa\" in text.lower():\n",
    "        engine.say('the object you search for is a sofa')\n",
    "        engine.runAndWait()\n",
    "        sending_the_cl(\"2\")\n",
    "    elif \"dresser\" in text.lower():\n",
    "        engine.say('the object you search for is a dresser')\n",
    "        engine.runAndWait()\n",
    "        sending_the_cl(\"3\")\n",
    "    elif \"chair\" in text.lower():\n",
    "        engine.say('the object you search for is a chair')\n",
    "        engine.runAndWait()\n",
    "        sending_the_cl(\"4\")\n",
    "    elif \"closet\" in text.lower():\n",
    "        engine.say('the object you search for is a closet')\n",
    "        engine.runAndWait()\n",
    "        sending_the_cl(\"5\")\n",
    "    elif \"library\" in text.lower():\n",
    "        engine.say('the object you search for is a libary')\n",
    "        engine.runAndWait()\n",
    "        sending_the_cl(\"6\")\n",
    "    elif \"close\" in text.lower():\n",
    "        engine.say(\"Goodbye! Have a great day!\")\n",
    "        engine.runAndWait()\n",
    "        return True\n",
    "    else:\n",
    "        # print(\"I didn't understand that command. Please try again.\")\n",
    "        engine.say('I didnt understand that command. Please try again.')\n",
    "        engine.runAndWait()\n",
    "    return False"
   ]
  },
  {
   "cell_type": "code",
   "execution_count": 11,
   "id": "4c58564b-891b-49a1-9924-a2ae3b8189e6",
   "metadata": {},
   "outputs": [],
   "source": [
    "def convert_voice_to_text(audio):\n",
    "    try:\n",
    "        # text = recognizer.recognize_sphinx(audio)\n",
    "        text = recognizer.recognize_google(audio)\n",
    "        print(\"You said: \" + text)\n",
    "    except sr.UnknownValueError:\n",
    "        text = \"\"\n",
    "        print(\"Sorry, I didn't understand that.\")\n",
    "    except sr.RequestError as e:\n",
    "        text = \"\"\n",
    "        print(\"Error; {0}\".format(e))\n",
    "    return text"
   ]
  },
  {
   "cell_type": "code",
   "execution_count": 12,
   "id": "013eb8dd-84d6-4a5b-99bf-5bfbee6d5712",
   "metadata": {},
   "outputs": [],
   "source": [
    "def capture_voice_input():\n",
    "    with sr.Microphone() as source:\n",
    "        print(\"Listening...\")\n",
    "        audio = recognizer.listen(source)\n",
    "    return audio"
   ]
  },
  {
   "cell_type": "code",
   "execution_count": 15,
   "id": "84a07462-2a14-4a7f-8518-f940c43f5ff2",
   "metadata": {},
   "outputs": [],
   "source": [
    "def main():\n",
    "    # get_evrithing_ready()\n",
    "    user = \"Atara\"\n",
    "    engine.say(f'Hello {user}, you have reached a spatial orientation system!! please enter the name of the object you want to find..')\n",
    "    engine.runAndWait()\n",
    "    engine.say('The objects that we can detect for you are: bed, table, chair, library, closet, dresser, coffee table and sofa')\n",
    "    engine.runAndWait()\n",
    "    end_program = False\n",
    "    while not end_program:\n",
    "        audio = capture_voice_input()\n",
    "        text = convert_voice_to_text(audio)\n",
    "        end_program = process_voice_command(text)\n",
    "\n",
    "# if __name__ == \"__main__\":\n",
    "#     main()"
   ]
  },
  {
   "cell_type": "code",
   "execution_count": 43,
   "id": "aae8ce12-3e66-4606-955d-e769d6a8a0b5",
   "metadata": {},
   "outputs": [],
   "source": [
    "def get_ready_send(t):\n",
    "    if t==True:\n",
    "        get_evrithing_ready(True)\n",
    "    else:\n",
    "        get_evrithing_ready(False)"
   ]
  },
  {
   "cell_type": "code",
   "execution_count": null,
   "id": "1e8fe93f-e949-42cd-94d0-3c9a8e77f314",
   "metadata": {},
   "outputs": [],
   "source": []
  }
 ],
 "metadata": {
  "kernelspec": {
   "display_name": "Python 3 (ipykernel)",
   "language": "python",
   "name": "python3"
  },
  "language_info": {
   "codemirror_mode": {
    "name": "ipython",
    "version": 3
   },
   "file_extension": ".py",
   "mimetype": "text/x-python",
   "name": "python",
   "nbconvert_exporter": "python",
   "pygments_lexer": "ipython3",
   "version": "3.12.0"
  }
 },
 "nbformat": 4,
 "nbformat_minor": 5
}
