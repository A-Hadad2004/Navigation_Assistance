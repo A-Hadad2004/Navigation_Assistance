{
 "cells": [
  {
   "cell_type": "code",
   "execution_count": 18,
   "id": "007219e6-5d4a-4aee-bb85-b2e444fe46b8",
   "metadata": {},
   "outputs": [],
   "source": [
    "import torch\n",
    "import IPython\n",
    "from IPython.display import Image\n",
    "import tensorboard\n",
    "import tensorflow\n",
    "import speech_recognition as sr\n",
    "import pocketsphinx\n",
    "import pyaudio\n",
    "import pyttsx3\n",
    "engine = pyttsx3.init()\n",
    "recognizer = sr.Recognizer()\n",
    "import os\n",
    "os.environ[\"GIT_PYTHON_REFRESH\"] = \"quiet\"\n",
    "import git\n",
    "import cv2\n"
   ]
  },
  {
   "cell_type": "code",
   "execution_count": 19,
   "id": "1d337bf1-e467-464e-81b1-1643121d2bbd",
   "metadata": {},
   "outputs": [],
   "source": [
    "exp = 98"
   ]
  },
  {
   "cell_type": "code",
   "execution_count": 20,
   "id": "eb96941a-bd2a-44b9-a789-54615aac8413",
   "metadata": {},
   "outputs": [],
   "source": [
    "# print(exp)\n",
    "# engine.say(f\"awesome!! we found the object you search for, within {exp} centimeters.\")\n",
    "# engine.runAndWait()"
   ]
  },
  {
   "cell_type": "code",
   "execution_count": 21,
   "id": "f43e1735-7c21-4f78-8551-2767fb4c2e20",
   "metadata": {},
   "outputs": [],
   "source": [
    "def get_evrithing_ready(t):\n",
    "    if t == True:\n",
    "        %cd ../yolov5-master\n",
    "        !pip install -r requirements.txt\n",
    "    else:\n",
    "        pass"
   ]
  },
  {
   "cell_type": "code",
   "execution_count": 22,
   "id": "af69c339",
   "metadata": {},
   "outputs": [],
   "source": [
    "# %cd yolov5-master"
   ]
  },
  {
   "cell_type": "code",
   "execution_count": 23,
   "id": "7f31835b",
   "metadata": {
    "scrolled": true
   },
   "outputs": [],
   "source": [
    "# !pip install -r requirements.txt"
   ]
  },
  {
   "cell_type": "code",
   "execution_count": 24,
   "id": "d6e2220b",
   "metadata": {},
   "outputs": [],
   "source": [
    "# !python train.py --img 640 --batch 16 --epochs 200 --data custom_data.yaml --weights yolov5s.pt --cache"
   ]
  },
  {
   "cell_type": "code",
   "execution_count": 25,
   "id": "6965b163",
   "metadata": {
    "scrolled": true
   },
   "outputs": [],
   "source": [
    "# !python detect.py --weights runs/train/exp7/weights/last.pt --img 640 --conf 0.25 --source ../img_sofa1.jpg --save-txt --save-conf\n",
    "# # exp = exp+1"
   ]
  },
  {
   "cell_type": "code",
   "execution_count": 26,
   "id": "9cd18027-80bd-407d-964b-8e414e06b430",
   "metadata": {
    "scrolled": true
   },
   "outputs": [],
   "source": [
    "# !python detect.py --weights runs/train/exp7/weights/last.pt --img 640 --conf 0.25 --source 0 --save-txt --save-conf"
   ]
  },
  {
   "cell_type": "code",
   "execution_count": 27,
   "id": "96550c71-f33b-4607-b10a-4699960ee0b0",
   "metadata": {},
   "outputs": [],
   "source": [
    "# path = './runs/detect/exp28/labels/img_dresser.txt'\n",
    "# if os.path.isfile(path):\n",
    "#     print(\"v\")\n",
    "# else:\n",
    "#     print(\"x\")"
   ]
  },
  {
   "cell_type": "code",
   "execution_count": 28,
   "id": "e429e20f-5053-45bd-81ed-f5c7a5b60244",
   "metadata": {},
   "outputs": [],
   "source": [
    "def yolo1(cl):\n",
    "     max = 0.0\n",
    "     lines = []\n",
    "    # path = os.path.join(os.getcwd(), '/runs/detect/exp30/labels/img_chair.txt')\n",
    "    # if os.path.isfile(path):\n",
    "     with open(f'./runs/detect/exp30/labels/img_chair.txt', 'r') as file:\n",
    "      # Read the first line of the file\n",
    "        for line in file:\n",
    "            if line.strip() == \"\":\n",
    "                break;\n",
    "            values = line.split()\n",
    "            if values[0] == cl and float(values[5]) > max :\n",
    "                lines = values\n",
    "                max = float(values[5])\n",
    "      # Split the line into individual values\n",
    "        # values = line.split()\n",
    "      # Assign the values to variables\n",
    "        values = lines\n",
    "     if lines:\n",
    "        cl, x_center, y_center, box_width, box_height = lines[0], lines[1], lines[2], lines[3], lines[4]\n",
    "        img_width=512.0\n",
    "        img_height=512.0\n",
    "        x_center=float(x_center)\n",
    "        y_center=float(y_center)\n",
    "        box_width=float(box_width)\n",
    "        box_height=float(box_height)\n",
    "        x_center = int(round(x_center * img_width))\n",
    "        y_center = int(round(y_center * img_height))\n",
    "        box_width = int(round(box_width * img_width))\n",
    "        box_height = int(round(box_height * img_height))\n",
    "    \n",
    "          # Calculate top-left and bottom-right coordinates of the bounding box\n",
    "        x1 = x_center - box_width // 2\n",
    "        y1 = y_center - box_height // 2\n",
    "        x2 = x_center + box_width // 2\n",
    "        y2 = y_center + box_height // 2\n",
    "        return(cl, x1, y1, x2, y2)\n",
    "     else:\n",
    "        print(\"sorry we did not found the object you want\")\n",
    "        return False\n",
    "       \n",
    "    "
   ]
  },
  {
   "cell_type": "code",
   "execution_count": 29,
   "id": "d8370bd5-03a1-421f-b08f-ca05e41f7efe",
   "metadata": {},
   "outputs": [],
   "source": [
    "# exp=\"exp21\"\n",
    "# cl = \"3\"\n",
    "# max = 0.6\n",
    "# lines = []\n",
    "# with open(f'./runs/detect/{exp}/labels/img_dresser.txt', 'r') as file:\n",
    "#     lines = []\n",
    "#   # Read the first line of the file\n",
    "#     for line in file:\n",
    "#             if line.strip() == \"\":\n",
    "#                 break;\n",
    "#             values = line.split()\n",
    "#             lines = values\n",
    "#             print(lines)"
   ]
  },
  {
   "cell_type": "code",
   "execution_count": 30,
   "id": "807975b1-0d8b-4a61-b95d-a605ad4e32dd",
   "metadata": {},
   "outputs": [],
   "source": [
    "def detect_yolo(string, cl):\n",
    "    # %cd ../yolov5-master\n",
    "    !python ../yolov5-master/detect.py --weights ../yolov5-master/runs/train/exp5/weights/last.pt --img 640 --conf 0.25 --source ../{string}.jpg --save-txt --save-conf\n",
    "    global exp\n",
    "    exp = exp+1\n",
    "    max = 0.0\n",
    "    lines = []\n",
    "    exp_str = str(exp)\n",
    "    exp_str = \"exp\"+exp_str\n",
    "    path = f'../yolov5-master/runs/detect/{exp_str}/labels/{string}.txt'\n",
    "    if os.path.isfile(path):\n",
    "        with open(f'../yolov5-master/runs/detect/{exp_str}/labels/{string}.txt', 'r') as file:\n",
    "      # Read the first line of the file\n",
    "            for line in file:\n",
    "                if line.strip() == \"\":\n",
    "                    break;\n",
    "                values = line.split()\n",
    "                if values[0] == cl and float(values[5]) > max :\n",
    "                    lines = values\n",
    "                    max = float(values[5])\n",
    "          # Split the line into individual values\n",
    "            # values = line.split()\n",
    "          # Assign the values to variables\n",
    "        values = lines \n",
    "        %cd ../server_jupyter\n",
    "    if lines:\n",
    "        cl, x_center, y_center, box_width, box_height = lines[0], lines[1], lines[2], lines[3], lines[4]\n",
    "        img_width=512.0\n",
    "        img_height=512.0\n",
    "        x_center=float(x_center)\n",
    "        y_center=float(y_center)\n",
    "        box_width=float(box_width)\n",
    "        box_height=float(box_height)\n",
    "        x_center = int(round(x_center * img_width))\n",
    "        y_center = int(round(y_center * img_height))\n",
    "        box_width = int(round(box_width * img_width))\n",
    "        box_height = int(round(box_height * img_height))\n",
    "    \n",
    "          # Calculate top-left and bottom-right coordinates of the bounding box\n",
    "        x1 = x_center - box_width // 2\n",
    "        y1 = y_center - box_height // 2\n",
    "        x2 = x_center + box_width // 2\n",
    "        y2 = y_center + box_height // 2\n",
    "        return(cl, x1, y1, x2, y2)\n",
    "    else:\n",
    "         engine.say(\"sorry, we did not found the object you want\")\n",
    "         engine.runAndWait()\n",
    "        # print(\"sorry we did not found the object you want\")\n",
    "         return False\n",
    "       "
   ]
  },
  {
   "cell_type": "code",
   "execution_count": null,
   "id": "5e1f12d9-02ad-476b-9f73-361aaf650d33",
   "metadata": {},
   "outputs": [],
   "source": []
  },
  {
   "cell_type": "code",
   "execution_count": 31,
   "id": "c2803790-1fb8-4fa3-b531-821d47eae022",
   "metadata": {},
   "outputs": [],
   "source": [
    "# נצטרך על התמונה שאנו מדדנו את המרחק בעצמנו לחשב את ה-פוקאל לאנגס' וזה ישמש אותנו בהמשך כמובן שנצטרך על כול מחלקה\n",
    "# get a  known pic\n",
    " # height_in_class_0_in_the_rf = move it throw the detect model, find the height in the detect box\n",
    "# detect_yolo_0(\"img.jpg\")\n",
    "# detect_yolo_0(\"img_bed1.jpg\")"
   ]
  },
  {
   "cell_type": "code",
   "execution_count": 32,
   "id": "c7505377-157c-4a9f-ba44-8ef376d9400b",
   "metadata": {},
   "outputs": [],
   "source": [
    "  # 0: bed\n",
    "  # 1: table\n",
    "  # 2: sofa\n",
    "  # 3: dresser\n",
    "  # 4: chair\n",
    "  # 5: closet\n",
    "  # 6: libary\n",
    "  # 7: coffeTable"
   ]
  },
  {
   "cell_type": "code",
   "execution_count": 33,
   "id": "c09e4e81-da9e-4dff-98fe-f9557bd8bfa8",
   "metadata": {},
   "outputs": [],
   "source": [
    "def frame_Capture(cl):\n",
    "    # %cd ../yolov5-master\n",
    "    distance = False\n",
    "    cap = cv2.VideoCapture(0)\n",
    "    fourcc = cv2.VideoWriter_fourcc(*'jpeg')\n",
    "    # output = cv2.VideoWriter('output3.mp4', fourcc, 20.0, (640, 480))\n",
    "    # font \n",
    "    font = cv2.FONT_HERSHEY_SIMPLEX \n",
    "      \n",
    "    # org \n",
    "    org = (50, 50) \n",
    "      \n",
    "    # fontScale \n",
    "    fontScale = 1\n",
    "       \n",
    "    # Blue color in BGR \n",
    "    color = (255, 0, 0) \n",
    "      \n",
    "    # Line thickness of 2 px \n",
    "    thickness = 2\n",
    "    out = 0\n",
    "    # output = cv2.imwrite(f'output{out}.jpeg', fourcc, 20.0, (640, 480))\n",
    "    out = out+1\n",
    "    # print(out)\n",
    "    _, frame = cap.read()\n",
    "    cv2.imwrite(f'../output{out}.jpg',frame)\n",
    "    # output.write(frame)\n",
    "    # נשלח את הפריים למודל שלנו שהוא יחזיר לנו חמישה פרמטרים שזה יהיה המחלקה והבוקס\n",
    "    # data= throw_model_yolov5(frame) העברת הפריים דרך המודל\n",
    "    data = detect_yolo(f'output{out}', cl)\n",
    "    # for d in data:\n",
    "    if data:\n",
    "        distance= distans_finder(focal_langth_class0, know_height_bed, data[4] )\n",
    "        # frame = cv2.putText(frame, str(distance), org, font,  \n",
    "                                   # fontScale, color, thickness, cv2.LINE_AA) \n",
    "    # print(distance)\n",
    "    if distance:\n",
    "        distance = int(round(distance))\n",
    "        print(distance)\n",
    "        engine.say(f\"awesome!! we found the object you search for' withi, {distance} centimeters.\")\n",
    "        engine.runAndWait()\n",
    "    # frame.cv2.putText(frame, distance, (data[1],data[2]),FONT_HERSHEY_SIMPLEX,(255, 0, 0))\n",
    "    cv2.imshow(\"frame\", frame)\n",
    "    # if cv2.waitKey(1)==ord(\"q\") or out>=10:break\n",
    "    cap.release()\n",
    "    cv2.destroyAllWindows()\n",
    "    %cd ../server_jupyter"
   ]
  },
  {
   "cell_type": "code",
   "execution_count": 34,
   "id": "67fe1a4c-c347-4f3d-8a4d-62355a16c286",
   "metadata": {},
   "outputs": [],
   "source": [
    "# distance"
   ]
  },
  {
   "cell_type": "code",
   "execution_count": null,
   "id": "45c8bb3b-6743-4138-9146-4e5665a3cd04",
   "metadata": {},
   "outputs": [],
   "source": []
  },
  {
   "cell_type": "code",
   "execution_count": null,
   "id": "c76c634c-b88b-42df-a9b0-32aa165a3b6c",
   "metadata": {},
   "outputs": [],
   "source": []
  }
 ],
 "metadata": {
  "kernelspec": {
   "display_name": "Python 3 (ipykernel)",
   "language": "python",
   "name": "python3"
  },
  "language_info": {
   "codemirror_mode": {
    "name": "ipython",
    "version": 3
   },
   "file_extension": ".py",
   "mimetype": "text/x-python",
   "name": "python",
   "nbconvert_exporter": "python",
   "pygments_lexer": "ipython3",
   "version": "3.12.0"
  }
 },
 "nbformat": 4,
 "nbformat_minor": 5
}
