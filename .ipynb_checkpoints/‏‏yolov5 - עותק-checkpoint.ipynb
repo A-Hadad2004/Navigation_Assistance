{
 "cells": [
  {
   "cell_type": "code",
   "execution_count": 1,
   "id": "007219e6-5d4a-4aee-bb85-b2e444fe46b8",
   "metadata": {},
   "outputs": [],
   "source": [
    "import torch\n",
    "import IPython\n",
    "from IPython.display import Image\n",
    "import tensorboard\n",
    "import tensorflow\n",
    "import speech_recognition as sr\n",
    "import pocketsphinx\n",
    "import pyaudio\n",
    "import pyttsx3\n",
    "engine = pyttsx3.init()\n",
    "recognizer = sr.Recognizer()\n",
    "import os\n",
    "os.environ[\"GIT_PYTHON_REFRESH\"] = \"quiet\"\n",
    "import git\n",
    "import cv2\n"
   ]
  },
  {
   "cell_type": "code",
   "execution_count": 2,
   "id": "0e025637-06e2-4c6b-b931-cfda0f34f643",
   "metadata": {},
   "outputs": [
    {
     "name": "stdout",
     "output_type": "stream",
     "text": [
      "3.12.3 (tags/v3.12.3:f6650f9, Apr  9 2024, 14:05:25) [MSC v.1938 64 bit (AMD64)]\n"
     ]
    }
   ],
   "source": [
    "import sys\n",
    "print(sys.version)"
   ]
  },
  {
   "cell_type": "code",
   "execution_count": 3,
   "id": "bc58ceb0-fcee-4849-8128-84d0c747be80",
   "metadata": {},
   "outputs": [
    {
     "name": "stdout",
     "output_type": "stream",
     "text": [
      "C:\\Users\\HP\\yolo\n"
     ]
    }
   ],
   "source": [
    "import os\n",
    "current_path = os.getcwd()\n",
    "print(current_path)"
   ]
  },
  {
   "cell_type": "code",
   "execution_count": 12,
   "id": "1d337bf1-e467-464e-81b1-1643121d2bbd",
   "metadata": {},
   "outputs": [],
   "source": [
    "exp = 111"
   ]
  },
  {
   "cell_type": "code",
   "execution_count": 20,
   "id": "eb96941a-bd2a-44b9-a789-54615aac8413",
   "metadata": {},
   "outputs": [],
   "source": [
    "# print(exp)\n",
    "# engine.say(f\"awesome!! we found the object you search for, within {exp} centimeters.\")\n",
    "# engine.runAndWait()"
   ]
  },
  {
   "cell_type": "code",
   "execution_count": 21,
   "id": "f43e1735-7c21-4f78-8551-2767fb4c2e20",
   "metadata": {},
   "outputs": [],
   "source": [
    "def get_evrithing_ready(t):\n",
    "    if t == True:\n",
    "        %cd ../yolov5-master\n",
    "        !pip install -r requirements.txt\n",
    "    else:\n",
    "        pass"
   ]
  },
  {
   "cell_type": "code",
   "execution_count": 3,
   "id": "af69c339",
   "metadata": {},
   "outputs": [
    {
     "name": "stdout",
     "output_type": "stream",
     "text": [
      "C:\\Users\\HP\\yolo\\yolov5-master\n"
     ]
    }
   ],
   "source": [
    "%cd yolov5-master"
   ]
  },
  {
   "cell_type": "code",
   "execution_count": 4,
   "id": "7f31835b",
   "metadata": {
    "scrolled": true
   },
   "outputs": [
    {
     "name": "stdout",
     "output_type": "stream",
     "text": [
      "Requirement already satisfied: gitpython>=3.1.30 in c:\\users\\hp\\appdata\\local\\programs\\python\\python312\\lib\\site-packages (from -r requirements.txt (line 5)) (3.1.43)\n",
      "Requirement already satisfied: matplotlib>=3.3 in c:\\users\\hp\\appdata\\local\\programs\\python\\python312\\lib\\site-packages (from -r requirements.txt (line 6)) (3.8.0)\n",
      "Requirement already satisfied: numpy>=1.23.5 in c:\\users\\hp\\appdata\\local\\programs\\python\\python312\\lib\\site-packages (from -r requirements.txt (line 7)) (1.26.0)\n",
      "Requirement already satisfied: opencv-python>=4.1.1 in c:\\users\\hp\\appdata\\local\\programs\\python\\python312\\lib\\site-packages (from -r requirements.txt (line 8)) (4.9.0.80)\n",
      "Requirement already satisfied: pillow>=10.3.0 in c:\\users\\hp\\appdata\\local\\programs\\python\\python312\\lib\\site-packages (from -r requirements.txt (line 9)) (10.3.0)\n",
      "Requirement already satisfied: psutil in c:\\users\\hp\\appdata\\local\\programs\\python\\python312\\lib\\site-packages (from -r requirements.txt (line 10)) (5.9.5)\n",
      "Requirement already satisfied: PyYAML>=5.3.1 in c:\\users\\hp\\appdata\\local\\programs\\python\\python312\\lib\\site-packages (from -r requirements.txt (line 11)) (6.0.1)\n",
      "Requirement already satisfied: requests>=2.23.0 in c:\\users\\hp\\appdata\\local\\programs\\python\\python312\\lib\\site-packages (from -r requirements.txt (line 12)) (2.31.0)\n",
      "Requirement already satisfied: scipy>=1.4.1 in c:\\users\\hp\\appdata\\local\\programs\\python\\python312\\lib\\site-packages (from -r requirements.txt (line 13)) (1.11.3)\n",
      "Requirement already satisfied: thop>=0.1.1 in c:\\users\\hp\\appdata\\local\\programs\\python\\python312\\lib\\site-packages (from -r requirements.txt (line 14)) (0.1.1.post2209072238)\n",
      "Requirement already satisfied: torch>=1.8.0 in c:\\users\\hp\\appdata\\local\\programs\\python\\python312\\lib\\site-packages (from -r requirements.txt (line 15)) (2.2.2)\n",
      "Requirement already satisfied: torchvision>=0.9.0 in c:\\users\\hp\\appdata\\local\\programs\\python\\python312\\lib\\site-packages (from -r requirements.txt (line 16)) (0.17.2)\n",
      "Requirement already satisfied: tqdm>=4.64.0 in c:\\users\\hp\\appdata\\local\\programs\\python\\python312\\lib\\site-packages (from -r requirements.txt (line 17)) (4.66.2)\n",
      "Requirement already satisfied: ultralytics>=8.0.232 in c:\\users\\hp\\appdata\\local\\programs\\python\\python312\\lib\\site-packages (from -r requirements.txt (line 18)) (8.2.0)\n",
      "Requirement already satisfied: pandas>=1.1.4 in c:\\users\\hp\\appdata\\local\\programs\\python\\python312\\lib\\site-packages (from -r requirements.txt (line 27)) (2.1.1)\n",
      "Requirement already satisfied: seaborn>=0.11.0 in c:\\users\\hp\\appdata\\local\\programs\\python\\python312\\lib\\site-packages (from -r requirements.txt (line 28)) (0.13.2)\n",
      "Requirement already satisfied: setuptools>=65.5.1 in c:\\users\\hp\\appdata\\local\\programs\\python\\python312\\lib\\site-packages (from -r requirements.txt (line 42)) (69.5.1)\n",
      "Requirement already satisfied: wheel>=0.38.0 in c:\\users\\hp\\appdata\\local\\programs\\python\\python312\\lib\\site-packages (from -r requirements.txt (line 50)) (0.43.0)\n",
      "Requirement already satisfied: gitdb<5,>=4.0.1 in c:\\users\\hp\\appdata\\local\\programs\\python\\python312\\lib\\site-packages (from gitpython>=3.1.30->-r requirements.txt (line 5)) (4.0.11)\n",
      "Requirement already satisfied: contourpy>=1.0.1 in c:\\users\\hp\\appdata\\local\\programs\\python\\python312\\lib\\site-packages (from matplotlib>=3.3->-r requirements.txt (line 6)) (1.1.1)\n",
      "Requirement already satisfied: cycler>=0.10 in c:\\users\\hp\\appdata\\local\\programs\\python\\python312\\lib\\site-packages (from matplotlib>=3.3->-r requirements.txt (line 6)) (0.12.1)\n",
      "Requirement already satisfied: fonttools>=4.22.0 in c:\\users\\hp\\appdata\\local\\programs\\python\\python312\\lib\\site-packages (from matplotlib>=3.3->-r requirements.txt (line 6)) (4.43.1)\n",
      "Requirement already satisfied: kiwisolver>=1.0.1 in c:\\users\\hp\\appdata\\local\\programs\\python\\python312\\lib\\site-packages (from matplotlib>=3.3->-r requirements.txt (line 6)) (1.4.5)\n",
      "Requirement already satisfied: packaging>=20.0 in c:\\users\\hp\\appdata\\local\\programs\\python\\python312\\lib\\site-packages (from matplotlib>=3.3->-r requirements.txt (line 6)) (23.2)\n",
      "Requirement already satisfied: pyparsing>=2.3.1 in c:\\users\\hp\\appdata\\local\\programs\\python\\python312\\lib\\site-packages (from matplotlib>=3.3->-r requirements.txt (line 6)) (3.1.1)\n",
      "Requirement already satisfied: python-dateutil>=2.7 in c:\\users\\hp\\appdata\\local\\programs\\python\\python312\\lib\\site-packages (from matplotlib>=3.3->-r requirements.txt (line 6)) (2.8.2)\n",
      "Requirement already satisfied: charset-normalizer<4,>=2 in c:\\users\\hp\\appdata\\local\\programs\\python\\python312\\lib\\site-packages (from requests>=2.23.0->-r requirements.txt (line 12)) (3.3.0)\n",
      "Requirement already satisfied: idna<4,>=2.5 in c:\\users\\hp\\appdata\\local\\programs\\python\\python312\\lib\\site-packages (from requests>=2.23.0->-r requirements.txt (line 12)) (3.4)\n",
      "Requirement already satisfied: urllib3<3,>=1.21.1 in c:\\users\\hp\\appdata\\local\\programs\\python\\python312\\lib\\site-packages (from requests>=2.23.0->-r requirements.txt (line 12)) (2.0.6)\n",
      "Requirement already satisfied: certifi>=2017.4.17 in c:\\users\\hp\\appdata\\local\\programs\\python\\python312\\lib\\site-packages (from requests>=2.23.0->-r requirements.txt (line 12)) (2023.7.22)\n",
      "Requirement already satisfied: filelock in c:\\users\\hp\\appdata\\local\\programs\\python\\python312\\lib\\site-packages (from torch>=1.8.0->-r requirements.txt (line 15)) (3.13.4)\n",
      "Requirement already satisfied: typing-extensions>=4.8.0 in c:\\users\\hp\\appdata\\local\\programs\\python\\python312\\lib\\site-packages (from torch>=1.8.0->-r requirements.txt (line 15)) (4.11.0)\n",
      "Requirement already satisfied: sympy in c:\\users\\hp\\appdata\\local\\programs\\python\\python312\\lib\\site-packages (from torch>=1.8.0->-r requirements.txt (line 15)) (1.12)\n",
      "Requirement already satisfied: networkx in c:\\users\\hp\\appdata\\local\\programs\\python\\python312\\lib\\site-packages (from torch>=1.8.0->-r requirements.txt (line 15)) (3.3)\n",
      "Requirement already satisfied: jinja2 in c:\\users\\hp\\appdata\\local\\programs\\python\\python312\\lib\\site-packages (from torch>=1.8.0->-r requirements.txt (line 15)) (3.1.2)\n",
      "Requirement already satisfied: fsspec in c:\\users\\hp\\appdata\\local\\programs\\python\\python312\\lib\\site-packages (from torch>=1.8.0->-r requirements.txt (line 15)) (2024.3.1)\n",
      "Requirement already satisfied: colorama in c:\\users\\hp\\appdata\\local\\programs\\python\\python312\\lib\\site-packages (from tqdm>=4.64.0->-r requirements.txt (line 17)) (0.4.6)\n",
      "Requirement already satisfied: py-cpuinfo in c:\\users\\hp\\appdata\\local\\programs\\python\\python312\\lib\\site-packages (from ultralytics>=8.0.232->-r requirements.txt (line 18)) (9.0.0)\n",
      "Requirement already satisfied: pytz>=2020.1 in c:\\users\\hp\\appdata\\local\\programs\\python\\python312\\lib\\site-packages (from pandas>=1.1.4->-r requirements.txt (line 27)) (2023.3.post1)\n",
      "Requirement already satisfied: tzdata>=2022.1 in c:\\users\\hp\\appdata\\local\\programs\\python\\python312\\lib\\site-packages (from pandas>=1.1.4->-r requirements.txt (line 27)) (2023.3)\n",
      "Requirement already satisfied: smmap<6,>=3.0.1 in c:\\users\\hp\\appdata\\local\\programs\\python\\python312\\lib\\site-packages (from gitdb<5,>=4.0.1->gitpython>=3.1.30->-r requirements.txt (line 5)) (5.0.1)\n",
      "Requirement already satisfied: six>=1.5 in c:\\users\\hp\\appdata\\local\\programs\\python\\python312\\lib\\site-packages (from python-dateutil>=2.7->matplotlib>=3.3->-r requirements.txt (line 6)) (1.16.0)\n",
      "Requirement already satisfied: MarkupSafe>=2.0 in c:\\users\\hp\\appdata\\local\\programs\\python\\python312\\lib\\site-packages (from jinja2->torch>=1.8.0->-r requirements.txt (line 15)) (2.1.3)\n",
      "Requirement already satisfied: mpmath>=0.19 in c:\\users\\hp\\appdata\\local\\programs\\python\\python312\\lib\\site-packages (from sympy->torch>=1.8.0->-r requirements.txt (line 15)) (1.3.0)\n"
     ]
    }
   ],
   "source": [
    "!pip install -r requirements.txt"
   ]
  },
  {
   "cell_type": "code",
   "execution_count": null,
   "id": "d6e2220b",
   "metadata": {},
   "outputs": [],
   "source": [
    "!python train.py --img 640 --batch 32 --epochs 200 --data custom_data.yaml --weights yolov5s.pt --cache"
   ]
  },
  {
   "cell_type": "code",
   "execution_count": null,
   "id": "f1c4eb1d-5e53-4324-a701-6ea39a3e786d",
   "metadata": {},
   "outputs": [],
   "source": [
    "pwd"
   ]
  },
  {
   "cell_type": "code",
   "execution_count": 8,
   "id": "6965b163",
   "metadata": {
    "scrolled": true
   },
   "outputs": [
    {
     "name": "stderr",
     "output_type": "stream",
     "text": [
      "\u001b[34m\u001b[1mdetect: \u001b[0mweights=['runs/train/exp7/weights/best.pt'], source=../img_chair.jpg, data=data\\coco128.yaml, imgsz=[640, 640], conf_thres=0.25, iou_thres=0.45, max_det=1000, device=, view_img=False, save_txt=True, save_csv=False, save_conf=True, save_crop=False, nosave=False, classes=None, agnostic_nms=False, augment=False, visualize=False, update=False, project=runs\\detect, name=exp, exist_ok=False, line_thickness=3, hide_labels=False, hide_conf=False, half=False, dnn=False, vid_stride=1\n",
      "YOLOv5  2024-4-21 Python-3.12.3 torch-2.2.2+cpu CPU\n",
      "\n",
      "Fusing layers... \n",
      "Model summary: 157 layers, 7031701 parameters, 0 gradients, 15.8 GFLOPs\n",
      "image 1/1 C:\\Users\\HP\\OneDrive\\\\yolo\\img_chair.jpg: 480x640 1 sofa, 147.6ms\n",
      "Speed: 6.0ms pre-process, 147.6ms inference, 0.0ms NMS per image at shape (1, 3, 640, 640)\n",
      "Results saved to \u001b[1mruns\\detect\\exp110\u001b[0m\n",
      "1 labels saved to runs\\detect\\exp110\\labels\n"
     ]
    }
   ],
   "source": [
    "!python detect.py --weights runs/train/exp7/weights/best.pt --img 640 --conf 0.25 --source ../img_chair.jpg --save-txt --save-conf\n",
    "# # exp = exp+1"
   ]
  },
  {
   "cell_type": "code",
   "execution_count": 22,
   "id": "9cd18027-80bd-407d-964b-8e414e06b430",
   "metadata": {
    "scrolled": true
   },
   "outputs": [
    {
     "name": "stderr",
     "output_type": "stream",
     "text": [
      "\u001b[34m\u001b[1mdetect: \u001b[0mweights=['runs/train/exp7/weights/last.pt'], source=0, data=data\\coco128.yaml, imgsz=[640, 640], conf_thres=0.25, iou_thres=0.45, max_det=1000, device=, view_img=False, save_txt=True, save_csv=False, save_conf=True, save_crop=False, nosave=False, classes=None, agnostic_nms=False, augment=False, visualize=False, update=False, project=runs\\detect, name=exp, exist_ok=False, line_thickness=3, hide_labels=False, hide_conf=False, half=False, dnn=False, vid_stride=1\n",
      "YOLOv5  2024-4-21 Python-3.12.3 torch-2.2.2+cpu CPU\n",
      "\n",
      "Fusing layers... \n",
      "Model summary: 157 layers, 7031701 parameters, 0 gradients, 15.8 GFLOPs\n",
      "1/1: 0...  Success (inf frames 640x480 at 30.00 FPS)\n",
      "\n",
      "0: 480x640 (no detections), 481.3ms\n",
      "0: 480x640 (no detections), 301.4ms\n",
      "0: 480x640 (no detections), 263.5ms\n",
      "0: 480x640 (no detections), 278.1ms\n",
      "0: 480x640 (no detections), 282.6ms\n",
      "0: 480x640 (no detections), 256.9ms\n",
      "0: 480x640 (no detections), 272.7ms\n",
      "0: 480x640 (no detections), 284.0ms\n",
      "0: 480x640 (no detections), 284.1ms\n",
      "0: 480x640 (no detections), 273.5ms\n",
      "0: 480x640 (no detections), 283.7ms\n",
      "0: 480x640 (no detections), 279.2ms\n",
      "0: 480x640 (no detections), 286.5ms\n",
      "0: 480x640 1 sofa, 279.4ms\n",
      "0: 480x640 (no detections), 280.3ms\n",
      "0: 480x640 (no detections), 281.1ms\n",
      "0: 480x640 2 beds, 291.8ms\n",
      "0: 480x640 1 bed, 307.9ms\n",
      "0: 480x640 1 bed, 349.2ms\n",
      "0: 480x640 1 bed, 356.8ms\n",
      "0: 480x640 2 beds, 291.1ms\n",
      "0: 480x640 (no detections), 303.3ms\n",
      "0: 480x640 2 beds, 344.2ms\n",
      "0: 480x640 1 bed, 292.5ms\n",
      "0: 480x640 (no detections), 287.7ms\n",
      "0: 480x640 1 sofa, 330.2ms\n",
      "0: 480x640 (no detections), 379.0ms\n",
      "0: 480x640 (no detections), 327.1ms\n",
      "0: 480x640 (no detections), 307.4ms\n",
      "0: 480x640 (no detections), 350.1ms\n",
      "0: 480x640 1 bed, 299.8ms\n",
      "0: 480x640 (no detections), 279.7ms\n",
      "0: 480x640 (no detections), 357.6ms\n",
      "0: 480x640 (no detections), 289.8ms\n",
      "0: 480x640 (no detections), 291.0ms\n",
      "0: 480x640 (no detections), 288.5ms\n",
      "0: 480x640 1 bed, 276.7ms\n",
      "0: 480x640 1 sofa, 278.0ms\n",
      "0: 480x640 (no detections), 294.6ms\n",
      "0: 480x640 1 bed, 291.2ms\n",
      "0: 480x640 1 bed, 391.4ms\n",
      "0: 480x640 (no detections), 330.4ms\n",
      "0: 480x640 1 bed, 282.5ms\n",
      "0: 480x640 (no detections), 374.3ms\n",
      "0: 480x640 (no detections), 360.7ms\n",
      "0: 480x640 1 dresser, 365.5ms\n",
      "0: 480x640 (no detections), 334.1ms\n",
      "0: 480x640 (no detections), 302.5ms\n",
      "0: 480x640 (no detections), 302.1ms\n",
      "0: 480x640 (no detections), 351.1ms\n",
      "0: 480x640 1 bed, 283.4ms\n",
      "0: 480x640 (no detections), 272.9ms\n",
      "0: 480x640 2 beds, 337.2ms\n",
      "0: 480x640 1 bed, 275.2ms\n",
      "0: 480x640 1 bed, 241.2ms\n",
      "0: 480x640 1 bed, 302.1ms\n",
      "0: 480x640 1 bed, 306.4ms\n",
      "0: 480x640 1 bed, 253.3ms\n",
      "0: 480x640 (no detections), 273.4ms\n",
      "0: 480x640 (no detections), 267.2ms\n",
      "0: 480x640 (no detections), 296.7ms\n",
      "0: 480x640 (no detections), 287.7ms\n",
      "0: 480x640 (no detections), 279.7ms\n",
      "0: 480x640 1 bed, 278.6ms\n",
      "0: 480x640 (no detections), 280.5ms\n",
      "0: 480x640 (no detections), 274.7ms\n",
      "0: 480x640 (no detections), 283.8ms\n",
      "0: 480x640 (no detections), 261.4ms\n",
      "0: 480x640 (no detections), 285.3ms\n",
      "0: 480x640 (no detections), 300.5ms\n",
      "0: 480x640 (no detections), 255.5ms\n",
      "0: 480x640 1 bed, 1 dresser, 260.1ms\n",
      "0: 480x640 (no detections), 289.8ms\n",
      "0: 480x640 1 dresser, 272.8ms\n",
      "0: 480x640 (no detections), 242.3ms\n",
      "0: 480x640 (no detections), 308.0ms\n",
      "0: 480x640 (no detections), 344.2ms\n",
      "0: 480x640 2 beds, 292.4ms\n",
      "0: 480x640 1 bed, 283.7ms\n",
      "0: 480x640 1 bed, 305.3ms\n",
      "0: 480x640 (no detections), 326.2ms\n",
      "0: 480x640 (no detections), 270.0ms\n",
      "0: 480x640 (no detections), 294.4ms\n",
      "0: 480x640 (no detections), 282.2ms\n",
      "Speed: 0.5ms pre-process, 300.0ms inference, 1.0ms NMS per image at shape (1, 3, 640, 640)\n",
      "Results saved to \u001b[1mruns\\detect\\exp117\u001b[0m\n",
      "29 labels saved to runs\\detect\\exp117\\labels\n"
     ]
    }
   ],
   "source": [
    "!python detect.py --weights runs/train/exp7/weights/last.pt --img 640 --conf 0.25 --source 0 --save-txt --save-conf"
   ]
  },
  {
   "cell_type": "code",
   "execution_count": 27,
   "id": "96550c71-f33b-4607-b10a-4699960ee0b0",
   "metadata": {},
   "outputs": [],
   "source": [
    "# path = './runs/detect/exp28/labels/img_dresser.txt'\n",
    "# if os.path.isfile(path):\n",
    "#     print(\"v\")\n",
    "# else:\n",
    "#     print(\"x\")"
   ]
  },
  {
   "cell_type": "code",
   "execution_count": 36,
   "id": "e429e20f-5053-45bd-81ed-f5c7a5b60244",
   "metadata": {},
   "outputs": [],
   "source": [
    "def yolo1(cl):\n",
    "     max = 0.0\n",
    "     lines = []\n",
    "    # path = os.path.join(os.getcwd(), '/runs/detect/exp30/labels/img_chair.txt')\n",
    "    # if os.path.isfile(path):\n",
    "     with open(f'./runs/detect/exp30/labels/img_chair.txt', 'r') as file:\n",
    "      # Read the first line of the file\n",
    "        for line in file:\n",
    "            if line.strip() == \"\":\n",
    "                break;\n",
    "            values = line.split()\n",
    "            if values[0] == cl and float(values[5]) > max :\n",
    "                lines = values\n",
    "                max = float(values[5])\n",
    "      # Split the line into individual values\n",
    "        # values = line.split()\n",
    "      # Assign the values to variables\n",
    "        values = lines\n",
    "     if lines:\n",
    "        cl, x_center, y_center, box_width, box_height = lines[0], lines[1], lines[2], lines[3], lines[4]\n",
    "        img_width=512.0\n",
    "        img_height=512.0\n",
    "        x_center=float(x_center)\n",
    "        y_center=float(y_center)\n",
    "        box_width=float(box_width)\n",
    "        box_height=float(box_height)\n",
    "        x_center = int(round(x_center * img_width))\n",
    "        y_center = int(round(y_center * img_height))\n",
    "        box_width = int(round(box_width * img_width))\n",
    "        box_height = int(round(box_height * img_height))\n",
    "    \n",
    "          # Calculate top-left and bottom-right coordinates of the bounding box\n",
    "        x1 = x_center - box_width // 2\n",
    "        y1 = y_center - box_height // 2\n",
    "        x2 = x_center + box_width // 2\n",
    "        y2 = y_center + box_height // 2\n",
    "        return(cl, x1, y1, x2, y2)\n",
    "     else:\n",
    "        print(\"sorry we did not found the object you want\")\n",
    "        return False\n",
    "       \n",
    "    "
   ]
  },
  {
   "cell_type": "code",
   "execution_count": 29,
   "id": "d8370bd5-03a1-421f-b08f-ca05e41f7efe",
   "metadata": {},
   "outputs": [],
   "source": [
    "# exp=\"exp21\"\n",
    "# cl = \"3\"\n",
    "# max = 0.6\n",
    "# lines = []\n",
    "# with open(f'./runs/detect/{exp}/labels/img_dresser.txt', 'r') as file:\n",
    "#     lines = []\n",
    "#   # Read the first line of the file\n",
    "#     for line in file:\n",
    "#             if line.strip() == \"\":\n",
    "#                 break;\n",
    "#             values = line.split()\n",
    "#             lines = values\n",
    "#             print(lines)"
   ]
  },
  {
   "cell_type": "code",
   "execution_count": 9,
   "id": "807975b1-0d8b-4a61-b95d-a605ad4e32dd",
   "metadata": {},
   "outputs": [],
   "source": [
    "def detect_yolo(string, cl):\n",
    "    # %cd ../yolov5-master\n",
    "    !python detect.py --weights runs/train/exp5/weights/last.pt --img 640 --conf 0.25 --source ../{string}.jpg --save-txt --save-conf\n",
    "    global exp\n",
    "    exp = exp+1\n",
    "    max = 0.0\n",
    "    lines = []\n",
    "    exp_str = str(exp)\n",
    "    exp_str = \"exp\"+exp_str\n",
    "    path = f'runs/detect/{exp_str}/labels/{string}.txt'\n",
    "    if os.path.isfile(path):\n",
    "        with open(f'runs/detect/{exp_str}/labels/{string}.txt', 'r') as file:\n",
    "      # Read the first line of the file\n",
    "            for line in file:\n",
    "                if line.strip() == \"\":\n",
    "                    break;\n",
    "                values = line.split()\n",
    "                if values[0] == cl and float(values[5]) > max :\n",
    "                    lines = values\n",
    "                    max = float(values[5])\n",
    "          # Split the line into individual values\n",
    "            # values = line.split()\n",
    "          # Assign the values to variables\n",
    "        values = lines \n",
    "        # %cd ../server_jupyter\n",
    "    if lines:\n",
    "        cl, x_center, y_center, box_width, box_height = lines[0], lines[1], lines[2], lines[3], lines[4]\n",
    "        img_width=512.0\n",
    "        img_height=512.0\n",
    "        x_center=float(x_center)\n",
    "        y_center=float(y_center)\n",
    "        box_width=float(box_width)\n",
    "        box_height=float(box_height)\n",
    "        x_center = int(round(x_center * img_width))\n",
    "        y_center = int(round(y_center * img_height))\n",
    "        box_width = int(round(box_width * img_width))\n",
    "        box_height = int(round(box_height * img_height))\n",
    "    \n",
    "          # Calculate top-left and bottom-right coordinates of the bounding box\n",
    "        x1 = x_center - box_width // 2\n",
    "        y1 = y_center - box_height // 2\n",
    "        x2 = x_center + box_width // 2\n",
    "        y2 = y_center + box_height // 2\n",
    "        return(cl, x1, y1, x2, y2)\n",
    "    else:\n",
    "         engine.say(\"sorry, we did not found the object you want\")\n",
    "         engine.runAndWait()\n",
    "        # print(\"sorry we did not found the object you want\")\n",
    "         return False\n",
    "       "
   ]
  },
  {
   "cell_type": "code",
   "execution_count": null,
   "id": "5e1f12d9-02ad-476b-9f73-361aaf650d33",
   "metadata": {},
   "outputs": [],
   "source": []
  },
  {
   "cell_type": "code",
   "execution_count": 38,
   "id": "c2803790-1fb8-4fa3-b531-821d47eae022",
   "metadata": {},
   "outputs": [],
   "source": [
    "# נצטרך על התמונה שאנו מדדנו את המרחק בעצמנו לחשב את ה-פוקאל לאנגס' וזה ישמש אותנו בהמשך כמובן שנצטרך על כול מחלקה\n",
    "# get a  known pic\n",
    " # height_in_class_0_in_the_rf = move it throw the detect model, find the height in the detect box\n",
    "# detect_yolo_0(\"img.jpg\")\n",
    "# detect_yolo_0(\"img_bed1.jpg\")"
   ]
  },
  {
   "cell_type": "code",
   "execution_count": 39,
   "id": "c7505377-157c-4a9f-ba44-8ef376d9400b",
   "metadata": {},
   "outputs": [],
   "source": [
    "  # 0: bed\n",
    "  # 1: table\n",
    "  # 2: sofa\n",
    "  # 3: dresser\n",
    "  # 4: chair\n",
    "  # 5: closet\n",
    "  # 6: libary\n",
    "  # 7: coffeTable"
   ]
  },
  {
   "cell_type": "code",
   "execution_count": 40,
   "id": "c09e4e81-da9e-4dff-98fe-f9557bd8bfa8",
   "metadata": {},
   "outputs": [],
   "source": [
    "def frame_Capture(cl):\n",
    "    # %cd ../yolov5-master\n",
    "    distance = False\n",
    "    cap = cv2.VideoCapture(0)\n",
    "    fourcc = cv2.VideoWriter_fourcc(*'jpeg')\n",
    "    # output = cv2.VideoWriter('output3.mp4', fourcc, 20.0, (640, 480))\n",
    "    # font \n",
    "    font = cv2.FONT_HERSHEY_SIMPLEX \n",
    "      \n",
    "    # org \n",
    "    org = (50, 50) \n",
    "      \n",
    "    # fontScale \n",
    "    fontScale = 1\n",
    "       \n",
    "    # Blue color in BGR \n",
    "    color = (255, 0, 0) \n",
    "      \n",
    "    # Line thickness of 2 px \n",
    "    thickness = 2\n",
    "    out = 0\n",
    "    # output = cv2.imwrite(f'output{out}.jpeg', fourcc, 20.0, (640, 480))\n",
    "    out = out+1\n",
    "    # print(out)\n",
    "    _, frame = cap.read()\n",
    "    cv2.imwrite(f'../output{out}.jpg',frame)\n",
    "    # output.write(frame)\n",
    "    # נשלח את הפריים למודל שלנו שהוא יחזיר לנו חמישה פרמטרים שזה יהיה המחלקה והבוקס\n",
    "    # data= throw_model_yolov5(frame) העברת הפריים דרך המודל\n",
    "    data = detect_yolo(f'output{out}', cl)\n",
    "    # for d in data:\n",
    "    if data:\n",
    "        distance= distans_finder(focal_langth_class0, know_height_bed, data[4] )\n",
    "        # frame = cv2.putText(frame, str(distance), org, font,  \n",
    "                                   # fontScale, color, thickness, cv2.LINE_AA) \n",
    "    # print(distance)\n",
    "    if distance:\n",
    "        distance = int(round(distance))\n",
    "        print(distance)\n",
    "        engine.say(f\"awesome!! we found the object you search for' withi, {distance} centimeters.\")\n",
    "        engine.runAndWait()\n",
    "    # frame.cv2.putText(frame, distance, (data[1],data[2]),FONT_HERSHEY_SIMPLEX,(255, 0, 0))\n",
    "    cv2.imshow(\"frame\", frame)\n",
    "    # if cv2.waitKey(1)==ord(\"q\") or out>=10:break\n",
    "    cap.release()\n",
    "    cv2.destroyAllWindows()\n",
    "    # %cd ../server_jupyter"
   ]
  },
  {
   "cell_type": "code",
   "execution_count": 18,
   "id": "2f1e4fbd-596a-4997-927c-20bc61b86709",
   "metadata": {},
   "outputs": [
    {
     "name": "stdout",
     "output_type": "stream",
     "text": [
      "('0', 5, 238, 123, 486)\n",
      "131.0\n",
      "776.4146341463414\n",
      "img_table\n",
      "162.99999999999997\n",
      "1.1956969487179485\n",
      "img_sofa\n",
      "271.0\n",
      "2.07585695505618\n",
      "img_dresser\n",
      "119.99999999999999\n",
      "0.3631538983050847\n",
      "img_chair\n",
      "149.0\n",
      "1.3204617765957447\n",
      "img_libary\n",
      "151.0\n",
      "0.6291666666666667\n"
     ]
    },
    {
     "name": "stderr",
     "output_type": "stream",
     "text": [
      "\u001b[34m\u001b[1mdetect: \u001b[0mweights=['runs/train/exp5/weights/last.pt'], source=../img_bed.jpg, data=data\\coco128.yaml, imgsz=[640, 640], conf_thres=0.25, iou_thres=0.45, max_det=1000, device=, view_img=False, save_txt=True, save_csv=False, save_conf=True, save_crop=False, nosave=False, classes=None, agnostic_nms=False, augment=False, visualize=False, update=False, project=runs\\detect, name=exp, exist_ok=False, line_thickness=3, hide_labels=False, hide_conf=False, half=False, dnn=False, vid_stride=1\n",
      "YOLOv5  2024-4-21 Python-3.12.3 torch-2.2.2+cpu CPU\n",
      "\n",
      "Fusing layers... \n",
      "Model summary: 157 layers, 7012822 parameters, 0 gradients, 15.8 GFLOPs\n",
      "image 1/1 C:\\Users\\HP\\OneDrive\\\\yolo\\img_bed.jpg: 384x640 2 beds, 118.2ms\n",
      "Speed: 0.9ms pre-process, 118.2ms inference, 0.0ms NMS per image at shape (1, 3, 640, 640)\n",
      "Results saved to \u001b[1mruns\\detect\\exp115\u001b[0m\n",
      "1 labels saved to runs\\detect\\exp115\\labels\n"
     ]
    }
   ],
   "source": [
    "# יצירת כול הפוקאל לאנקס\n",
    "# bed\n",
    "five_parametr = detect_yolo(\"img_bed\", \"0\")\n",
    "if five_parametr:\n",
    "    height_in_class_0_in_the_rf = five_parametr[4]\n",
    "    focal_langth_class0 = focal_length_finder(know_distans_bed, know_height_bed, height_in_class_0_in_the_rf)\n",
    "    distance= distans_finder(focal_langth_class0, know_height_bed, height_in_class_0_in_the_rf )\n",
    "    print(five_parametr)\n",
    "    print(distance)\n",
    "    print(focal_langth_class0)\n",
    "# table\n",
    "five_parametr =\"img_table\"\n",
    "height_in_class_1_in_the_rf = 0.572174\n",
    "# נצטרך למצוא את_הפוקאל לאנגס' לכול מחלקה\n",
    "focal_langth_class1 = focal_length_finder(know_distans_table, know_height_table, height_in_class_1_in_the_rf)\n",
    "distance= distans_finder(focal_langth_class1, know_height_table, height_in_class_1_in_the_rf )\n",
    "print(five_parametr)\n",
    "print(distance)\n",
    "print(focal_langth_class1)\n",
    "# sofa\n",
    "five_parametr =\"img_sofa\"\n",
    "height_in_class_2_in_the_rf =  0.681739\n",
    "# נצטרך למצוא את_הפוקאל לאנגס' לכול מחלקה\n",
    "focal_langth_class2 = focal_length_finder(know_distans_sofa, know_height_sofa, height_in_class_2_in_the_rf)\n",
    "distance= distans_finder(focal_langth_class2, know_height_sofa, height_in_class_2_in_the_rf )\n",
    "print(five_parametr)\n",
    "print(distance)\n",
    "print(focal_langth_class2)\n",
    "# dresser\n",
    "five_parametr =\"img_dresser\"\n",
    "height_in_class_3_in_the_rf = 0.535652\n",
    "# נצטרך למצוא את_הפוקאל לאנגס' לכול מחלקה\n",
    "focal_langth_class3 = focal_length_finder(know_distans_dresser, know_height_dresser, height_in_class_3_in_the_rf)\n",
    "distance= distans_finder(focal_langth_class3, know_height_dresser, height_in_class_3_in_the_rf )\n",
    "print(five_parametr)\n",
    "print(distance)\n",
    "print(focal_langth_class3)\n",
    "# closet\n",
    "# five_parametr = \"img_closet\"\n",
    "# if five_parametr:\n",
    "#     height_in_class_4_in_the_rf = five_parametr[4]\n",
    "#     # נצטרך למצוא את_הפוקאל לאנגס' לכול מחלקה\n",
    "#     focal_langth_class4 = focal_length_finder(know_distans_closet, know_height_closet, height_in_class_4_in_the_rf)\n",
    "#     distance= distans_finder(focal_langth_class4, know_height_closet, height_in_class_4_in_the_rf )\n",
    "#     print(distance)\n",
    "# chair\n",
    "five_parametr = \"img_chair\"\n",
    "height_in_class_5_in_the_rf =  0.833043\n",
    "# נצטרך למצוא את_הפוקאל לאנגס' לכול מחלקה\n",
    "focal_langth_class5 = focal_length_finder(know_distans_chair, know_height_chair, height_in_class_5_in_the_rf)\n",
    "distance= distans_finder(focal_langth_class5, know_height_chair, height_in_class_5_in_the_rf )\n",
    "print(five_parametr)\n",
    "print(distance)\n",
    "print(focal_langth_class5)\n",
    "# libary\n",
    "five_parametr =\"img_libary\"\n",
    "height_in_class_6_in_the_rf = 1.000000\n",
    "# נצטרך למצוא את_הפוקאל לאנגס' לכול מחלקה\n",
    "focal_langth_class6 = focal_length_finder(know_distans_lib, know_height_lib, height_in_class_6_in_the_rf)\n",
    "distance= distans_finder(focal_langth_class6, know_height_lib, height_in_class_6_in_the_rf )\n",
    "print(five_parametr)\n",
    "print(distance )\n",
    "print(focal_langth_class6)\n",
    "# coffeTable\n",
    "# five_parametr = detect_yolo(\"img_coffeTable\", \"7\")\n",
    "# if five_parametr:\n",
    "#     height_in_class_7_in_the_rf = five_parametr[4]\n",
    "#     # נצטרך למצוא את_הפוקאל לאנגס' לכול מחלקה\n",
    "#     focal_langth_class7 = focal_length_finder(know_distans_coffeTable, know_height_coffeTable, height_in_class_7_in_the_rf)\n",
    "#     distance= distans_finder(focal_langth_class7, know_height_coffeTable, height_in_class_7_in_the_rf )\n",
    "#     print(distance)\n"
   ]
  },
  {
   "cell_type": "code",
   "execution_count": 20,
   "id": "67fe1a4c-c347-4f3d-8a4d-62355a16c286",
   "metadata": {},
   "outputs": [],
   "source": [
    "focal_langth_class0= 776.4146341463414\n",
    "focal_langth_class1= 1.1956969487179485\n",
    "focal_langth_class2= 2.07585695505618\n",
    "focal_langth_class3= 0.3631538983050847\n",
    "focal_langth_class5= 1.3204617765957447\n",
    "focal_langth_class6= 0.6291666666666667"
   ]
  },
  {
   "cell_type": "code",
   "execution_count": 14,
   "id": "45c8bb3b-6743-4138-9146-4e5665a3cd04",
   "metadata": {},
   "outputs": [],
   "source": [
    "know_distans_bed = 131\n",
    "know_height_bed = 82\n",
    "know_distans_sofa =271\n",
    "know_height_sofa = 89\n",
    "know_distans_chair = 149\n",
    "know_height_chair = 94\n",
    "know_distans_table = 163\n",
    "know_height_table = 78\n",
    "know_distans_lib= 151\n",
    "know_height_lib = 240 \n",
    "know_distans_dresser = 120\n",
    "know_height_dresser = 177\n"
   ]
  },
  {
   "cell_type": "code",
   "execution_count": 15,
   "id": "c76c634c-b88b-42df-a9b0-32aa165a3b6c",
   "metadata": {},
   "outputs": [],
   "source": [
    "def focal_length_finder(known_dis, know_height, height_we_found):\n",
    "    focal_length = (height_we_found* known_dis)/ know_height\n",
    "    return focal_length\n",
    "def distans_finder(focal_length, know_height, height_we_found):\n",
    "    distance = (know_height * focal_length)/ height_we_found\n",
    "    return distance"
   ]
  },
  {
   "cell_type": "code",
   "execution_count": null,
   "id": "6b44d0a2-688c-4971-9196-9984a01b7c96",
   "metadata": {},
   "outputs": [],
   "source": []
  }
 ],
 "metadata": {
  "kernelspec": {
   "display_name": "Python 3 (ipykernel)",
   "language": "python",
   "name": "python3"
  },
  "language_info": {
   "codemirror_mode": {
    "name": "ipython",
    "version": 3
   },
   "file_extension": ".py",
   "mimetype": "text/x-python",
   "name": "python",
   "nbconvert_exporter": "python",
   "pygments_lexer": "ipython3",
   "version": "3.12.3"
  }
 },
 "nbformat": 4,
 "nbformat_minor": 5
}
