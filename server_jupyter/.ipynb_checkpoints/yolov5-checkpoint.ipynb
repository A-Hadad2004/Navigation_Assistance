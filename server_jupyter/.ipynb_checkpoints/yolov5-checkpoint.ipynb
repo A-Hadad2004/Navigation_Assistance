{
 "cells": [
  {
   "cell_type": "code",
   "execution_count": 1,
   "id": "007219e6-5d4a-4aee-bb85-b2e444fe46b8",
   "metadata": {},
   "outputs": [],
   "source": [
    "import torch\n",
    "import IPython\n",
    "from IPython.display import Image\n",
    "import tensorboard\n",
    "import tensorflow\n",
    "import speech_recognition as sr\n",
    "import pocketsphinx\n",
    "import pyaudio\n",
    "import pyttsx3\n",
    "engine = pyttsx3.init()\n",
    "recognizer = sr.Recognizer()\n",
    "import os\n",
    "os.environ[\"GIT_PYTHON_REFRESH\"] = \"quiet\"\n",
    "import git\n",
    "import cv2\n"
   ]
  },
  {
   "cell_type": "code",
   "execution_count": 2,
   "id": "bc58ceb0-fcee-4849-8128-84d0c747be80",
   "metadata": {},
   "outputs": [
    {
     "name": "stdout",
     "output_type": "stream",
     "text": [
      "C:\\Users\\HP\\OneDrive\\מסמכים\\yolo\\server_jupyter\n"
     ]
    }
   ],
   "source": [
    "# import os\n",
    "# current_path = os.getcwd()\n",
    "# print(current_path)"
   ]
  },
  {
   "cell_type": "code",
   "execution_count": 4,
   "id": "1d337bf1-e467-464e-81b1-1643121d2bbd",
   "metadata": {},
   "outputs": [],
   "source": [
    "exp = 98"
   ]
  },
  {
   "cell_type": "code",
   "execution_count": 5,
   "id": "eb96941a-bd2a-44b9-a789-54615aac8413",
   "metadata": {},
   "outputs": [],
   "source": [
    "# print(exp)\n",
    "# engine.say(f\"awesome!! we found the object you search for, within {exp} centimeters.\")\n",
    "# engine.runAndWait()"
   ]
  },
  {
   "cell_type": "code",
   "execution_count": 6,
   "id": "f43e1735-7c21-4f78-8551-2767fb4c2e20",
   "metadata": {},
   "outputs": [],
   "source": [
    "# def get_evrithing_ready(t):\n",
    "#     if t == True:\n",
    "#         %cd ../yolov5-master\n",
    "#         !pip install -r requirements.txt\n",
    "#     else:\n",
    "#         pass"
   ]
  },
  {
   "cell_type": "code",
   "execution_count": 7,
   "id": "af69c339",
   "metadata": {},
   "outputs": [],
   "source": [
    "# %cd yolov5-master"
   ]
  },
  {
   "cell_type": "code",
   "execution_count": 8,
   "id": "7f31835b",
   "metadata": {
    "scrolled": true
   },
   "outputs": [],
   "source": [
    "# !pip install -r requirements.txt"
   ]
  },
  {
   "cell_type": "code",
   "execution_count": 9,
   "id": "d6e2220b",
   "metadata": {},
   "outputs": [],
   "source": [
    "# !python train.py --img 640 --batch 16 --epochs 200 --data custom_data.yaml --weights yolov5s.pt --cache"
   ]
  },
  {
   "cell_type": "code",
   "execution_count": 10,
   "id": "6965b163",
   "metadata": {
    "scrolled": true
   },
   "outputs": [],
   "source": [
    "# !python detect.py --weights runs/train/exp7/weights/last.pt --img 640 --conf 0.25 --source ../img_sofa1.jpg --save-txt --save-conf\n",
    "# # exp = exp+1"
   ]
  },
  {
   "cell_type": "code",
   "execution_count": 11,
   "id": "9cd18027-80bd-407d-964b-8e414e06b430",
   "metadata": {
    "scrolled": true
   },
   "outputs": [],
   "source": [
    "# !python detect.py --weights runs/train/exp7/weights/last.pt --img 640 --conf 0.25 --source 0 --save-txt --save-conf"
   ]
  },
  {
   "cell_type": "code",
   "execution_count": 12,
   "id": "96550c71-f33b-4607-b10a-4699960ee0b0",
   "metadata": {},
   "outputs": [],
   "source": [
    "# path = './runs/detect/exp28/labels/img_dresser.txt'\n",
    "# if os.path.isfile(path):\n",
    "#     print(\"v\")\n",
    "# else:\n",
    "#     print(\"x\")"
   ]
  },
  {
   "cell_type": "code",
   "execution_count": 13,
   "id": "e429e20f-5053-45bd-81ed-f5c7a5b60244",
   "metadata": {},
   "outputs": [],
   "source": [
    "def yolo1(cl):\n",
    "     max = 0.0\n",
    "     lines = []\n",
    "    # path = os.path.join(os.getcwd(), '/runs/detect/exp30/labels/img_chair.txt')\n",
    "    # if os.path.isfile(path):\n",
    "     with open(f'./runs/detect/exp30/labels/img_chair.txt', 'r') as file:\n",
    "      # Read the first line of the file\n",
    "        for line in file:\n",
    "            if line.strip() == \"\":\n",
    "                break;\n",
    "            values = line.split()\n",
    "            if values[0] == cl and float(values[5]) > max :\n",
    "                lines = values\n",
    "                max = float(values[5])\n",
    "      # Split the line into individual values\n",
    "        # values = line.split()\n",
    "      # Assign the values to variables\n",
    "        values = lines\n",
    "     if lines:\n",
    "        cl, x_center, y_center, box_width, box_height = lines[0], lines[1], lines[2], lines[3], lines[4]\n",
    "        img_width=512.0\n",
    "        img_height=512.0\n",
    "        x_center=float(x_center)\n",
    "        y_center=float(y_center)\n",
    "        box_width=float(box_width)\n",
    "        box_height=float(box_height)\n",
    "        x_center = int(round(x_center * img_width))\n",
    "        y_center = int(round(y_center * img_height))\n",
    "        box_width = int(round(box_width * img_width))\n",
    "        box_height = int(round(box_height * img_height))\n",
    "    \n",
    "          # Calculate top-left and bottom-right coordinates of the bounding box\n",
    "        x1 = x_center - box_width // 2\n",
    "        y1 = y_center - box_height // 2\n",
    "        x2 = x_center + box_width // 2\n",
    "        y2 = y_center + box_height // 2\n",
    "        return(cl, x1, y1, x2, y2)\n",
    "     else:\n",
    "        print(\"sorry we did not found the object you want\")\n",
    "        return False\n",
    "       \n",
    "    "
   ]
  },
  {
   "cell_type": "code",
   "execution_count": 14,
   "id": "d8370bd5-03a1-421f-b08f-ca05e41f7efe",
   "metadata": {},
   "outputs": [],
   "source": [
    "# exp=\"exp21\"\n",
    "# cl = \"3\"\n",
    "# max = 0.6\n",
    "# lines = []\n",
    "# with open(f'./runs/detect/{exp}/labels/img_dresser.txt', 'r') as file:\n",
    "#     lines = []\n",
    "#   # Read the first line of the file\n",
    "#     for line in file:\n",
    "#             if line.strip() == \"\":\n",
    "#                 break;\n",
    "#             values = line.split()\n",
    "#             lines = values\n",
    "#             print(lines)"
   ]
  },
  {
   "cell_type": "code",
   "execution_count": 15,
   "id": "807975b1-0d8b-4a61-b95d-a605ad4e32dd",
   "metadata": {},
   "outputs": [],
   "source": [
    "def detect_yolo(string, cl):\n",
    "    # %cd ../yolov5-master\n",
    "    !python ../yolov5-master/detect.py --weights ../yolov5-master/runs/train/exp5/weights/last.pt --img 640 --conf 0.25 --source ../{string}.jpg --save-txt --save-conf\n",
    "    global exp\n",
    "    exp = exp+1\n",
    "    max = 0.0\n",
    "    lines = []\n",
    "    exp_str = str(exp)\n",
    "    exp_str = \"exp\"+exp_str\n",
    "    path = f'../yolov5-master/runs/detect/{exp_str}/labels/{string}.txt'\n",
    "    if os.path.isfile(path):\n",
    "        with open(f'../yolov5-master/runs/detect/{exp_str}/labels/{string}.txt', 'r') as file:\n",
    "      # Read the first line of the file\n",
    "            for line in file:\n",
    "                if line.strip() == \"\":\n",
    "                    break;\n",
    "                values = line.split()\n",
    "                if values[0] == cl and float(values[5]) > max :\n",
    "                    lines = values\n",
    "                    max = float(values[5])\n",
    "          # Split the line into individual values\n",
    "            # values = line.split()\n",
    "          # Assign the values to variables\n",
    "        values = lines \n",
    "        # %cd ../server_jupyter\n",
    "    if lines:\n",
    "        cl, x_center, y_center, box_width, box_height = lines[0], lines[1], lines[2], lines[3], lines[4]\n",
    "        img_width=512.0\n",
    "        img_height=512.0\n",
    "        x_center=float(x_center)\n",
    "        y_center=float(y_center)\n",
    "        box_width=float(box_width)\n",
    "        box_height=float(box_height)\n",
    "        x_center = int(round(x_center * img_width))\n",
    "        y_center = int(round(y_center * img_height))\n",
    "        box_width = int(round(box_width * img_width))\n",
    "        box_height = int(round(box_height * img_height))\n",
    "    \n",
    "          # Calculate top-left and bottom-right coordinates of the bounding box\n",
    "        x1 = x_center - box_width // 2\n",
    "        y1 = y_center - box_height // 2\n",
    "        x2 = x_center + box_width // 2\n",
    "        y2 = y_center + box_height // 2\n",
    "        return(cl, x1, y1, x2, y2)\n",
    "    else:\n",
    "         engine.say(\"sorry, we did not found the object you want\")\n",
    "         engine.runAndWait()\n",
    "        # print(\"sorry we did not found the object you want\")\n",
    "         return False\n",
    "       "
   ]
  },
  {
   "cell_type": "code",
   "execution_count": null,
   "id": "5e1f12d9-02ad-476b-9f73-361aaf650d33",
   "metadata": {},
   "outputs": [],
   "source": []
  },
  {
   "cell_type": "code",
   "execution_count": 16,
   "id": "c2803790-1fb8-4fa3-b531-821d47eae022",
   "metadata": {},
   "outputs": [],
   "source": [
    "# נצטרך על התמונה שאנו מדדנו את המרחק בעצמנו לחשב את ה-פוקאל לאנגס' וזה ישמש אותנו בהמשך כמובן שנצטרך על כול מחלקה\n",
    "# get a  known pic\n",
    " # height_in_class_0_in_the_rf = move it throw the detect model, find the height in the detect box\n",
    "# detect_yolo_0(\"img.jpg\")\n",
    "# detect_yolo_0(\"img_bed1.jpg\")"
   ]
  },
  {
   "cell_type": "code",
   "execution_count": 17,
   "id": "c7505377-157c-4a9f-ba44-8ef376d9400b",
   "metadata": {},
   "outputs": [],
   "source": [
    "  # 0: bed\n",
    "  # 1: table\n",
    "  # 2: sofa\n",
    "  # 3: dresser\n",
    "  # 4: chair\n",
    "  # 5: closet\n",
    "  # 6: libary\n",
    "  # 7: coffeTable"
   ]
  },
  {
   "cell_type": "code",
   "execution_count": 18,
   "id": "c09e4e81-da9e-4dff-98fe-f9557bd8bfa8",
   "metadata": {},
   "outputs": [],
   "source": [
    "def frame_Capture(cl):\n",
    "    # %cd ../yolov5-master\n",
    "    distance = False\n",
    "    cap = cv2.VideoCapture(0)\n",
    "    fourcc = cv2.VideoWriter_fourcc(*'jpeg')\n",
    "    # output = cv2.VideoWriter('output3.mp4', fourcc, 20.0, (640, 480))\n",
    "    # font \n",
    "    font = cv2.FONT_HERSHEY_SIMPLEX \n",
    "      \n",
    "    # org \n",
    "    org = (50, 50) \n",
    "      \n",
    "    # fontScale \n",
    "    fontScale = 1\n",
    "       \n",
    "    # Blue color in BGR \n",
    "    color = (255, 0, 0) \n",
    "      \n",
    "    # Line thickness of 2 px \n",
    "    thickness = 2\n",
    "    out = 0\n",
    "    # output = cv2.imwrite(f'output{out}.jpeg', fourcc, 20.0, (640, 480))\n",
    "    out = out+1\n",
    "    # print(out)\n",
    "    _, frame = cap.read()\n",
    "    cv2.imwrite(f'../output{out}.jpg',frame)\n",
    "    # output.write(frame)\n",
    "    # נשלח את הפריים למודל שלנו שהוא יחזיר לנו חמישה פרמטרים שזה יהיה המחלקה והבוקס\n",
    "    # data= throw_model_yolov5(frame) העברת הפריים דרך המודל\n",
    "    data = detect_yolo(f'output{out}', cl)\n",
    "    # for d in data:\n",
    "    if data:\n",
    "        distance= distans_finder(focal_langth_class0, know_height_bed, data[4] )\n",
    "        # frame = cv2.putText(frame, str(distance), org, font,  \n",
    "                                   # fontScale, color, thickness, cv2.LINE_AA) \n",
    "    # print(distance)\n",
    "    if distance:\n",
    "        distance = int(round(distance))\n",
    "        print(distance)\n",
    "        engine.say(f\"awesome!! we found the object you search for' withi, {distance} centimeters.\")\n",
    "        engine.runAndWait()\n",
    "    # frame.cv2.putText(frame, distance, (data[1],data[2]),FONT_HERSHEY_SIMPLEX,(255, 0, 0))\n",
    "    cv2.imshow(\"frame\", frame)\n",
    "    # if cv2.waitKey(1)==ord(\"q\") or out>=10:break\n",
    "    cap.release()\n",
    "    cv2.destroyAllWindows()\n",
    "    # %cd ../server_jupyter"
   ]
  },
  {
   "cell_type": "code",
   "execution_count": 19,
   "id": "67fe1a4c-c347-4f3d-8a4d-62355a16c286",
   "metadata": {},
   "outputs": [],
   "source": [
    "# distance"
   ]
  },
  {
   "cell_type": "code",
   "execution_count": null,
   "id": "45c8bb3b-6743-4138-9146-4e5665a3cd04",
   "metadata": {},
   "outputs": [],
   "source": []
  },
  {
   "cell_type": "code",
   "execution_count": 6,
   "id": "c76c634c-b88b-42df-a9b0-32aa165a3b6c",
   "metadata": {},
   "outputs": [],
   "source": [
    "def capture_voice_input():\n",
    "    with sr.Microphone() as source:\n",
    "        print(\"Listening...\")\n",
    "        audio = recognizer.listen(source)\n",
    "    return audio"
   ]
  },
  {
   "cell_type": "code",
   "execution_count": 7,
   "id": "0f609a29-adb5-4030-9251-8174b6622a3a",
   "metadata": {},
   "outputs": [],
   "source": [
    "def convert_voice_to_text(audio):\n",
    "    try:\n",
    "        # text = recognizer.recognize_sphinx(audio)\n",
    "        text = recognizer.recognize_google(audio)\n",
    "        print(\"You said: \" + text)\n",
    "    except sr.UnknownValueError:\n",
    "        text = \"\"\n",
    "        print(\"Sorry, I didn't understand that.\")\n",
    "    except sr.RequestError as e:\n",
    "        text = \"\"\n",
    "        print(\"Error; {0}\".format(e))\n",
    "    return text"
   ]
  },
  {
   "cell_type": "code",
   "execution_count": 8,
   "id": "a51d6e77-bba6-4b77-b3fc-da814ccc9a3e",
   "metadata": {},
   "outputs": [],
   "source": [
    "def process_voice_command(text):\n",
    "    if \"hello\" in text.lower():\n",
    "        # print(\"Hello! How can I help you?\")\n",
    "        engine.say('Hello, How can I help you')\n",
    "        engine.runAndWait()\n",
    "    elif \"bed\" in text.lower():\n",
    "        engine.say('the object you search for is a bed')\n",
    "        engine.runAndWait()\n",
    "        sending_the_cl(\"0\")\n",
    "    elif \"coffee\" in text.lower() and \"table\" in text.lower():\n",
    "        engine.say('the object you search for is a coffee table')\n",
    "        engine.runAndWait()\n",
    "        sending_the_cl(\"7\")\n",
    "    elif \"table\" in text.lower():\n",
    "        engine.say('the object you search for is a table')\n",
    "        engine.runAndWait()\n",
    "        sending_the_cl(\"1\")\n",
    "    elif \"sofa\" in text.lower():\n",
    "        engine.say('the object you search for is a sofa')\n",
    "        engine.runAndWait()\n",
    "        sending_the_cl(\"2\")\n",
    "    elif \"dresser\" in text.lower():\n",
    "        engine.say('the object you search for is a dresser')\n",
    "        engine.runAndWait()\n",
    "        sending_the_cl(\"3\")\n",
    "    elif \"chair\" in text.lower():\n",
    "        engine.say('the object you search for is a chair')\n",
    "        engine.runAndWait()\n",
    "        sending_the_cl(\"4\")\n",
    "    elif \"closet\" in text.lower():\n",
    "        engine.say('the object you search for is a closet')\n",
    "        engine.runAndWait()\n",
    "        sending_the_cl(\"5\")\n",
    "    elif \"library\" in text.lower():\n",
    "        engine.say('the object you search for is a libary')\n",
    "        engine.runAndWait()\n",
    "        sending_the_cl(\"6\")\n",
    "    elif \"close\" in text.lower():\n",
    "        engine.say(\"Goodbye! Have a great day!\")\n",
    "        engine.runAndWait()\n",
    "        return True\n",
    "    else:\n",
    "        # print(\"I didn't understand that command. Please try again.\")\n",
    "        engine.say('I didnt understand that command. Please try again.')\n",
    "        engine.runAndWait()\n",
    "    return False"
   ]
  },
  {
   "cell_type": "code",
   "execution_count": 9,
   "id": "0539a497-e166-4eef-b683-5b6e23be9a6d",
   "metadata": {},
   "outputs": [],
   "source": [
    "def sending_the_cl(cl):\n",
    "    \"\"\"the function get the name of the class and sending it to the make_frame function\n",
    "    and the make_frame function will send to the detect function\"\"\"\n",
    "    engine.say(\"we want to take a fram of your environment please hold the camera in the center of your chest\")\n",
    "    engine.runAndWait()\n",
    "    frame_Capture(cl)"
   ]
  },
  {
   "cell_type": "code",
   "execution_count": 10,
   "id": "269ff57f-c1b2-4dc6-ad93-b8e06efa1f1c",
   "metadata": {},
   "outputs": [],
   "source": [
    "# # יצירת כול הפוקאל לאנקס\n",
    "# # bed\n",
    "# five_parametr = detect_yolo(\"img_bed\", \"0\")\n",
    "# if five_parametr:\n",
    "#     height_in_class_0_in_the_rf = five_parametr[4]\n",
    "#     focal_langth_class0 = focal_length_finder(know_distans_bed, know_height_bed, height_in_class_0_in_the_rf)\n",
    "#     distance= distans_finder(focal_langth_class0, know_height_bed, height_in_class_0_in_the_rf )\n",
    "#     print(distance)\n",
    "# # table\n",
    "# five_parametr = detect_yolo(\"img_table\", \"1\")\n",
    "# if five_parametr:\n",
    "#     height_in_class_1_in_the_rf = five_parametr[4]\n",
    "#     # נצטרך למצוא את_הפוקאל לאנגס' לכול מחלקה\n",
    "#     focal_langth_class1 = focal_length_finder(know_distans_table, know_height_table, height_in_class_1_in_the_rf)\n",
    "#     distance= distans_finder(focal_langth_class1, know_height_table, height_in_class_1_in_the_rf )\n",
    "#     print(distance)\n",
    "# # sofa\n",
    "# five_parametr = detect_yolo(\"img_sofa\", \"2\")\n",
    "# if five_parametr:\n",
    "#     height_in_class_2_in_the_rf = five_parametr[4]\n",
    "#     # נצטרך למצוא את_הפוקאל לאנגס' לכול מחלקה\n",
    "#     focal_langth_class2 = focal_length_finder(know_distans_sofa, know_height_sofa, height_in_class_2_in_the_rf)\n",
    "#     distance= distans_finder(focal_langth_class2, know_height_sofa, height_in_class_2_in_the_rf )\n",
    "#     print(distance)\n",
    "# # dresser\n",
    "# five_parametr = detect_yolo(\"img_dresser\", \"3\")\n",
    "# if five_parametr:\n",
    "#     height_in_class_3_in_the_rf = five_parametr[4]\n",
    "#     # נצטרך למצוא את_הפוקאל לאנגס' לכול מחלקה\n",
    "#     focal_langth_class3 = focal_length_finder(know_distans_dresser, know_height_dresser, height_in_class_3_in_the_rf)\n",
    "#     distance= distans_finder(focal_langth_class3, know_height_dresser, height_in_class_3_in_the_rf )\n",
    "#     print(distance)\n",
    "# # closet\n",
    "# five_parametr = detect_yolo(\"img_closet\", \"4\")\n",
    "# if five_parametr:\n",
    "#     height_in_class_4_in_the_rf = five_parametr[4]\n",
    "#     # נצטרך למצוא את_הפוקאל לאנגס' לכול מחלקה\n",
    "#     focal_langth_class4 = focal_length_finder(know_distans_closet, know_height_closet, height_in_class_4_in_the_rf)\n",
    "#     distance= distans_finder(focal_langth_class4, know_height_closet, height_in_class_4_in_the_rf )\n",
    "#     print(distance)\n",
    "# # chair\n",
    "# five_parametr = detect_yolo(\"img_chair\", \"5\")\n",
    "# if five_parametr:\n",
    "#     height_in_class_5_in_the_rf = five_parametr[4]\n",
    "#     # נצטרך למצוא את_הפוקאל לאנגס' לכול מחלקה\n",
    "#     focal_langth_class5 = focal_length_finder(know_distans_chair, know_height_chair, height_in_class_5_in_the_rf)\n",
    "#     distance= distans_finder(focal_langth_class5, know_height_chair, height_in_class_5_in_the_rf )\n",
    "#     print(distance)\n",
    "# # libary\n",
    "# five_parametr = detect_yolo(\"img_libary\", \"6\")\n",
    "# if five_parametr:\n",
    "#     height_in_class_6_in_the_rf = five_parametr[4]\n",
    "#     # נצטרך למצוא את_הפוקאל לאנגס' לכול מחלקה\n",
    "#     focal_langth_class6 = focal_length_finder(know_distans_libary, know_height_libary, height_in_class_6_in_the_rf)\n",
    "#     distance= distans_finder(focal_langth_class6, know_height_libary, height_in_class_6_in_the_rf )\n",
    "#     print(distance)\n",
    "# # coffeTable\n",
    "# five_parametr = detect_yolo(\"img_coffeTable\", \"7\")\n",
    "# if five_parametr:\n",
    "#     height_in_class_7_in_the_rf = five_parametr[4]\n",
    "#     # נצטרך למצוא את_הפוקאל לאנגס' לכול מחלקה\n",
    "#     focal_langth_class7 = focal_length_finder(know_distans_coffeTable, know_height_coffeTable, height_in_class_7_in_the_rf)\n",
    "#     distance= distans_finder(focal_langth_class7, know_height_coffeTable, height_in_class_7_in_the_rf )\n",
    "#     print(distance)\n"
   ]
  },
  {
   "cell_type": "code",
   "execution_count": 11,
   "id": "9dd5fa27-34d0-4a78-baaf-3d68c21b78ed",
   "metadata": {},
   "outputs": [],
   "source": [
    "focal_langth_class0 = 90"
   ]
  },
  {
   "cell_type": "code",
   "execution_count": 12,
   "id": "2fa2ce69-eae8-460e-b134-c6d5711770a5",
   "metadata": {},
   "outputs": [],
   "source": [
    "# ******************************************\n",
    "# פונקציות למציאת מרחק על ידי הגובה הידוע המרחק הידוע והגובה שמצאנו בפריים שנשלח ל -יולו וי 5\n",
    "def focal_length_finder(known_dis, know_height, height_we_found):\n",
    "    focal_length = (height_we_found* known_dis)/ know_height\n",
    "    return focal_length\n",
    "def distans_finder(focal_length, know_height, height_we_found):\n",
    "    distance = (know_height * focal_length)/ height_we_found\n",
    "    return distance"
   ]
  },
  {
   "cell_type": "code",
   "execution_count": 13,
   "id": "f4a9cf5c-c024-4478-af2c-3e85dee350f5",
   "metadata": {},
   "outputs": [],
   "source": [
    "know_distans_bed = 131\n",
    "know_height_bed = 82\n",
    "know_distans_sofa =271\n",
    "know_height_sofa = 89\n",
    "know_distans_chair = 149\n",
    "know_height_chair = 94\n",
    "know_distans_table = 163\n",
    "know_height_table = 78\n",
    "know_distans_lib= 151\n",
    "know_height_lib = 240 \n",
    "know_distans_dresser = 120\n",
    "know_height_dresser = 177"
   ]
  },
  {
   "cell_type": "code",
   "execution_count": 14,
   "id": "e231ebc9-f115-416e-8b27-1cbc276572bc",
   "metadata": {},
   "outputs": [],
   "source": [
    "def m():\n",
    "    import pyttsx3\n",
    "    engine = pyttsx3.init()\n",
    "    print(\"you hear\")\n",
    "    # get_evrithing_ready()\n",
    "    # user = \"Atara\"\n",
    "    engine.say('Hello')\n",
    "    print(\"you hear 1\")\n",
    "    engine.runAndWait()\n",
    "    print(\"you hear 2\")\n",
    "    engine.say('The objects that we can detect for you are: bed, table, chair, library, closet, dresser, coffee table and sofa')\n",
    "    engine.runAndWait()\n",
    "    end_program = False\n",
    "    while not end_program:\n",
    "        audio = capture_voice_input()\n",
    "        text = convert_voice_to_text(audio)\n",
    "        end_program = process_voice_command(text)\n",
    "\n",
    "# if __name__ == \"__main__\":\n",
    "#     main()"
   ]
  },
  {
   "cell_type": "code",
   "execution_count": null,
   "id": "7303fe1b-482b-4790-b397-12dabbcbeadb",
   "metadata": {},
   "outputs": [],
   "source": []
  }
 ],
 "metadata": {
  "kernelspec": {
   "display_name": "Python 3 (ipykernel)",
   "language": "python",
   "name": "python3"
  },
  "language_info": {
   "codemirror_mode": {
    "name": "ipython",
    "version": 3
   },
   "file_extension": ".py",
   "mimetype": "text/x-python",
   "name": "python",
   "nbconvert_exporter": "python",
   "pygments_lexer": "ipython3",
   "version": "3.12.0"
  }
 },
 "nbformat": 4,
 "nbformat_minor": 5
}
