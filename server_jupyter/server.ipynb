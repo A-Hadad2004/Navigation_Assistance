{
 "cells": [
  {
   "cell_type": "code",
   "execution_count": 1,
   "id": "190c669c-b1ad-4b51-9ed1-6569243b2281",
   "metadata": {},
   "outputs": [],
   "source": [
    "from flask import Flask, render_template, request\n"
   ]
  },
  {
   "cell_type": "code",
   "execution_count": 2,
   "id": "544d1cd6-97d2-4443-b59f-2bdfefe303bf",
   "metadata": {},
   "outputs": [],
   "source": [
    "from flask_cors import cross_origin"
   ]
  },
  {
   "cell_type": "code",
   "execution_count": 3,
   "id": "ec34c723-93bf-42d6-9de4-0c22ea9acfed",
   "metadata": {},
   "outputs": [],
   "source": [
    "%run ../Backend_Process.ipynb\n",
    "# %run ./yolov5.ipynb\n"
   ]
  },
  {
   "cell_type": "code",
   "execution_count": 46,
   "id": "41b8fb2f-2610-4cae-bb67-a62885839815",
   "metadata": {},
   "outputs": [],
   "source": [
    "# %cd ../server_jupyter"
   ]
  },
  {
   "cell_type": "code",
   "execution_count": 13,
   "id": "71cb39f9-a730-4efa-a638-f923b08d7e93",
   "metadata": {},
   "outputs": [],
   "source": [
    "# get_ready_send(True)"
   ]
  },
  {
   "cell_type": "code",
   "execution_count": 14,
   "id": "44c51f73-1b6e-47c1-ade3-31f900543cca",
   "metadata": {},
   "outputs": [],
   "source": [
    "# %cd ../server_jupyter"
   ]
  },
  {
   "cell_type": "code",
   "execution_count": 15,
   "id": "56123b6d-603e-4b91-ad28-27386881d3d9",
   "metadata": {},
   "outputs": [],
   "source": [
    "# %run ../try_import.ipynb"
   ]
  },
  {
   "cell_type": "code",
   "execution_count": 7,
   "id": "89e14415-6fee-4a70-9643-f24f1a2d1cfd",
   "metadata": {},
   "outputs": [
    {
     "name": "stdout",
     "output_type": "stream",
     "text": [
      "C:\\Users\\HP\\OneDrive\\מסמכים\\yolo\\server_jupyter\n"
     ]
    }
   ],
   "source": [
    "import os\n",
    "current_path = os.getcwd()\n",
    "print(current_path)"
   ]
  },
  {
   "cell_type": "code",
   "execution_count": null,
   "id": "63c8a7eb-063d-4908-8871-a0c2be7678e3",
   "metadata": {},
   "outputs": [
    {
     "name": "stdout",
     "output_type": "stream",
     "text": [
      " * Serving Flask app '__main__'\n",
      " * Debug mode: off\n"
     ]
    },
    {
     "name": "stderr",
     "output_type": "stream",
     "text": [
      "WARNING: This is a development server. Do not use it in a production deployment. Use a production WSGI server instead.\n",
      " * Running on all addresses (0.0.0.0)\n",
      " * Running on http://127.0.0.1:8000\n",
      " * Running on http://10.0.0.4:8000\n",
      "Press CTRL+C to quit\n",
      "127.0.0.1 - - [01/Sep/2024 14:38:15] \"GET / HTTP/1.1\" 200 -\n",
      "127.0.0.1 - - [01/Sep/2024 14:38:15] \"GET /static/styles.css HTTP/1.1\" 200 -\n",
      "127.0.0.1 - - [01/Sep/2024 14:38:15] \"GET /static/styles1.css HTTP/1.1\" 200 -\n",
      "127.0.0.1 - - [01/Sep/2024 14:38:15] \"GET /favicon.ico HTTP/1.1\" 404 -\n"
     ]
    },
    {
     "name": "stdout",
     "output_type": "stream",
     "text": [
      "you hear\n",
      "Listening...\n",
      "Sorry, I didn't understand that.\n",
      "Listening...\n",
      "You said: a chair\n"
     ]
    },
    {
     "name": "stderr",
     "output_type": "stream",
     "text": [
      "\u001b[34m\u001b[1mdetect: \u001b[0mweights=['../yolov5-master/runs/train/exp17/weights/last.pt'], source=../output1.jpg, data=..\\yolov5-master\\data\\coco128.yaml, imgsz=[640, 640], conf_thres=0.25, iou_thres=0.45, max_det=1000, device=, view_img=False, save_txt=True, save_csv=False, save_conf=True, save_crop=False, nosave=False, classes=None, agnostic_nms=False, augment=False, visualize=False, update=False, project=..\\yolov5-master\\runs\\detect, name=exp, exist_ok=False, line_thickness=3, hide_labels=False, hide_conf=False, half=False, dnn=False, vid_stride=1\n",
      "YOLOv5  2024-4-21 Python-3.12.3 torch-2.2.2+cpu CPU\n",
      "\n",
      "Fusing layers... \n",
      "Model summary: 157 layers, 7012822 parameters, 0 gradients, 15.8 GFLOPs\n",
      "image 1/1 C:\\Users\\HP\\yolo\\output1.jpg: 480x640 4 chairs, 291.2ms\n",
      "Speed: 0.0ms pre-process, 291.2ms inference, 0.0ms NMS per image at shape (1, 3, 640, 640)\n",
      "Results saved to \u001b[1m..\\yolov5-master\\runs\\detect\\exp\u001b[0m\n",
      "1 labels saved to ..\\yolov5-master\\runs\\detect\\exp\\labels\n"
     ]
    },
    {
     "name": "stdout",
     "output_type": "stream",
     "text": [
      "0 0 173 260 511\n",
      "155\n",
      "Listening...\n",
      "You said: close\n"
     ]
    },
    {
     "name": "stderr",
     "output_type": "stream",
     "text": [
      "127.0.0.1 - - [01/Sep/2024 14:39:27] \"GET /get HTTP/1.1\" 200 -\n",
      "127.0.0.1 - - [01/Sep/2024 14:39:27] \"GET /static/styles1.css HTTP/1.1\" 304 -\n",
      "127.0.0.1 - - [01/Sep/2024 14:39:27] \"GET /static/styles.css HTTP/1.1\" 304 -\n"
     ]
    }
   ],
   "source": [
    "app= Flask(__name__)\n",
    "@app.route('/')\n",
    "def hello():\n",
    "    return render_template('fronted.html')\n",
    "    \n",
    "@app.route('/get', methods=['GET'])\n",
    "@cross_origin()\n",
    "def get_request():\n",
    "    main()\n",
    "    return render_template('fronted.html')\n",
    "\n",
    "\n",
    "if __name__ =='__main__':\n",
    "    app.run(debug=False, host='0.0.0.0', port=8000)"
   ]
  },
  {
   "cell_type": "code",
   "execution_count": null,
   "id": "e587af2c-b1b9-47ba-a51c-714581c33d4d",
   "metadata": {},
   "outputs": [],
   "source": []
  },
  {
   "cell_type": "code",
   "execution_count": null,
   "id": "89403536-2e7f-442d-9b48-7d9d7ea13885",
   "metadata": {},
   "outputs": [],
   "source": []
  }
 ],
 "metadata": {
  "kernelspec": {
   "display_name": "Python 3 (ipykernel)",
   "language": "python",
   "name": "python3"
  },
  "language_info": {
   "codemirror_mode": {
    "name": "ipython",
    "version": 3
   },
   "file_extension": ".py",
   "mimetype": "text/x-python",
   "name": "python",
   "nbconvert_exporter": "python",
   "pygments_lexer": "ipython3",
   "version": "3.12.3"
  }
 },
 "nbformat": 4,
 "nbformat_minor": 5
}
